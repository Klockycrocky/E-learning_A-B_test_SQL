{
 "cells": [
  {
   "cell_type": "code",
   "execution_count": 1,
   "metadata": {},
   "outputs": [],
   "source": [
    "import pandas as pd # импортируем ряд библиотек\n",
    "import pandas as pd\n",
    "import numpy as np\n",
    "import seaborn as sns\n",
    "%matplotlib inline\n",
    "import matplotlib.pyplot as plt\n",
    "import requests \n",
    "from urllib.parse import urlencode\n",
    "from scipy import stats\n",
    "from scipy.stats import ttest_ind\n",
    "from tqdm.auto import tqdm\n",
    "from scipy.stats import norm\n",
    "from  scipy.stats import chi2_contingency\n",
    "import pandahouse as ph\n",
    "sns.set(\n",
    "    font_scale = 2,\n",
    "    style       =\"whitegrid\",\n",
    "    rc          ={'figure.figsize':(20, 7)}\n",
    ")"
   ]
  },
  {
   "cell_type": "code",
   "execution_count": 2,
   "metadata": {},
   "outputs": [],
   "source": [
    "# Выгружаем данные напрямую с диска\n",
    "base_url = 'https://cloud-api.yandex.net/v1/disk/public/resources/download?' \n",
    "public_key_1 = 'https://disk.yandex.ru/d/UhyYx41rTt3clQ' \n",
    "public_key_2 = 'https://disk.yandex.ru/d/5Kxrz02m3IBUwQ'\n",
    "public_key_3 = 'https://disk.yandex.ru/d/Tbs44Bm6H_FwFQ'\n",
    "public_key_4 = 'https://disk.yandex.ru/d/pH1q-VqcxXjsVA'\n",
    "final_url_1 = base_url + urlencode(dict(public_key=public_key_1)) \n",
    "final_url_2 = base_url + urlencode(dict(public_key=public_key_2))\n",
    "final_url_3 = base_url + urlencode(dict(public_key=public_key_3))\n",
    "final_url_4 = base_url + urlencode(dict(public_key=public_key_4))\n",
    "response_1 = requests.get(final_url_1)\n",
    "response_2 = requests.get(final_url_2)\n",
    "response_3 = requests.get(final_url_3)\n",
    "response_4 = requests.get(final_url_4)\n",
    "download_url_1 = response_1.json()['href'] \n",
    "download_url_2 = response_2.json()['href'] \n",
    "download_url_3 = response_3.json()['href']\n",
    "download_url_4 = response_4.json()['href'] \n",
    "groups =       pd.read_csv(download_url_1, sep=';')\n",
    "groups_add =   pd.read_csv(download_url_2, sep=',')\n",
    "active_studs = pd.read_csv(download_url_3, sep=';')\n",
    "checks =       pd.read_csv(download_url_4, sep=';')"
   ]
  },
  {
   "cell_type": "code",
   "execution_count": 3,
   "metadata": {},
   "outputs": [
    {
     "data": {
      "text/html": [
       "<div>\n",
       "<style scoped>\n",
       "    .dataframe tbody tr th:only-of-type {\n",
       "        vertical-align: middle;\n",
       "    }\n",
       "\n",
       "    .dataframe tbody tr th {\n",
       "        vertical-align: top;\n",
       "    }\n",
       "\n",
       "    .dataframe thead th {\n",
       "        text-align: right;\n",
       "    }\n",
       "</style>\n",
       "<table border=\"1\" class=\"dataframe\">\n",
       "  <thead>\n",
       "    <tr style=\"text-align: right;\">\n",
       "      <th></th>\n",
       "      <th>id</th>\n",
       "      <th>grp</th>\n",
       "    </tr>\n",
       "  </thead>\n",
       "  <tbody>\n",
       "    <tr>\n",
       "      <th>0</th>\n",
       "      <td>1489</td>\n",
       "      <td>B</td>\n",
       "    </tr>\n",
       "    <tr>\n",
       "      <th>1</th>\n",
       "      <td>1627</td>\n",
       "      <td>A</td>\n",
       "    </tr>\n",
       "    <tr>\n",
       "      <th>2</th>\n",
       "      <td>1768</td>\n",
       "      <td>B</td>\n",
       "    </tr>\n",
       "    <tr>\n",
       "      <th>3</th>\n",
       "      <td>1783</td>\n",
       "      <td>B</td>\n",
       "    </tr>\n",
       "    <tr>\n",
       "      <th>4</th>\n",
       "      <td>1794</td>\n",
       "      <td>A</td>\n",
       "    </tr>\n",
       "  </tbody>\n",
       "</table>\n",
       "</div>"
      ],
      "text/plain": [
       "     id grp\n",
       "0  1489   B\n",
       "1  1627   A\n",
       "2  1768   B\n",
       "3  1783   B\n",
       "4  1794   A"
      ]
     },
     "execution_count": 3,
     "metadata": {},
     "output_type": "execute_result"
    }
   ],
   "source": [
    "# файл с информацией о принадлежности пользователя к контрольной или экспериментальной группе (А – контроль, B – тест) \n",
    "groups.head() "
   ]
  },
  {
   "cell_type": "code",
   "execution_count": 4,
   "metadata": {},
   "outputs": [
    {
     "data": {
      "text/html": [
       "<div>\n",
       "<style scoped>\n",
       "    .dataframe tbody tr th:only-of-type {\n",
       "        vertical-align: middle;\n",
       "    }\n",
       "\n",
       "    .dataframe tbody tr th {\n",
       "        vertical-align: top;\n",
       "    }\n",
       "\n",
       "    .dataframe thead th {\n",
       "        text-align: right;\n",
       "    }\n",
       "</style>\n",
       "<table border=\"1\" class=\"dataframe\">\n",
       "  <thead>\n",
       "    <tr style=\"text-align: right;\">\n",
       "      <th></th>\n",
       "      <th>id</th>\n",
       "      <th>grp</th>\n",
       "    </tr>\n",
       "  </thead>\n",
       "  <tbody>\n",
       "    <tr>\n",
       "      <th>0</th>\n",
       "      <td>5694584</td>\n",
       "      <td>B</td>\n",
       "    </tr>\n",
       "    <tr>\n",
       "      <th>1</th>\n",
       "      <td>5694830</td>\n",
       "      <td>B</td>\n",
       "    </tr>\n",
       "    <tr>\n",
       "      <th>2</th>\n",
       "      <td>5695057</td>\n",
       "      <td>B</td>\n",
       "    </tr>\n",
       "    <tr>\n",
       "      <th>3</th>\n",
       "      <td>5698872</td>\n",
       "      <td>B</td>\n",
       "    </tr>\n",
       "    <tr>\n",
       "      <th>4</th>\n",
       "      <td>5699067</td>\n",
       "      <td>B</td>\n",
       "    </tr>\n",
       "  </tbody>\n",
       "</table>\n",
       "</div>"
      ],
      "text/plain": [
       "        id grp\n",
       "0  5694584   B\n",
       "1  5694830   B\n",
       "2  5695057   B\n",
       "3  5698872   B\n",
       "4  5699067   B"
      ]
     },
     "execution_count": 4,
     "metadata": {},
     "output_type": "execute_result"
    }
   ],
   "source": [
    "#дополнительный файл с пользователями, который вам прислали спустя 2 дня после передачи данных\n",
    "groups_add.head()\n"
   ]
  },
  {
   "cell_type": "code",
   "execution_count": 5,
   "metadata": {},
   "outputs": [
    {
     "data": {
      "text/html": [
       "<div>\n",
       "<style scoped>\n",
       "    .dataframe tbody tr th:only-of-type {\n",
       "        vertical-align: middle;\n",
       "    }\n",
       "\n",
       "    .dataframe tbody tr th {\n",
       "        vertical-align: top;\n",
       "    }\n",
       "\n",
       "    .dataframe thead th {\n",
       "        text-align: right;\n",
       "    }\n",
       "</style>\n",
       "<table border=\"1\" class=\"dataframe\">\n",
       "  <thead>\n",
       "    <tr style=\"text-align: right;\">\n",
       "      <th></th>\n",
       "      <th>student_id</th>\n",
       "    </tr>\n",
       "  </thead>\n",
       "  <tbody>\n",
       "    <tr>\n",
       "      <th>0</th>\n",
       "      <td>581585</td>\n",
       "    </tr>\n",
       "    <tr>\n",
       "      <th>1</th>\n",
       "      <td>5723133</td>\n",
       "    </tr>\n",
       "    <tr>\n",
       "      <th>2</th>\n",
       "      <td>3276743</td>\n",
       "    </tr>\n",
       "    <tr>\n",
       "      <th>3</th>\n",
       "      <td>4238589</td>\n",
       "    </tr>\n",
       "    <tr>\n",
       "      <th>4</th>\n",
       "      <td>4475369</td>\n",
       "    </tr>\n",
       "  </tbody>\n",
       "</table>\n",
       "</div>"
      ],
      "text/plain": [
       "   student_id\n",
       "0      581585\n",
       "1     5723133\n",
       "2     3276743\n",
       "3     4238589\n",
       "4     4475369"
      ]
     },
     "execution_count": 5,
     "metadata": {},
     "output_type": "execute_result"
    }
   ],
   "source": [
    "# файл с информацией о пользователях, которые зашли на платформу в дни проведения эксперимента. \n",
    "active_studs.head()"
   ]
  },
  {
   "cell_type": "code",
   "execution_count": 6,
   "metadata": {},
   "outputs": [
    {
     "data": {
      "text/html": [
       "<div>\n",
       "<style scoped>\n",
       "    .dataframe tbody tr th:only-of-type {\n",
       "        vertical-align: middle;\n",
       "    }\n",
       "\n",
       "    .dataframe tbody tr th {\n",
       "        vertical-align: top;\n",
       "    }\n",
       "\n",
       "    .dataframe thead th {\n",
       "        text-align: right;\n",
       "    }\n",
       "</style>\n",
       "<table border=\"1\" class=\"dataframe\">\n",
       "  <thead>\n",
       "    <tr style=\"text-align: right;\">\n",
       "      <th></th>\n",
       "      <th>student_id</th>\n",
       "      <th>rev</th>\n",
       "    </tr>\n",
       "  </thead>\n",
       "  <tbody>\n",
       "    <tr>\n",
       "      <th>0</th>\n",
       "      <td>1627</td>\n",
       "      <td>990.0</td>\n",
       "    </tr>\n",
       "    <tr>\n",
       "      <th>1</th>\n",
       "      <td>3185</td>\n",
       "      <td>690.0</td>\n",
       "    </tr>\n",
       "    <tr>\n",
       "      <th>2</th>\n",
       "      <td>25973</td>\n",
       "      <td>690.0</td>\n",
       "    </tr>\n",
       "    <tr>\n",
       "      <th>3</th>\n",
       "      <td>26280</td>\n",
       "      <td>690.0</td>\n",
       "    </tr>\n",
       "    <tr>\n",
       "      <th>4</th>\n",
       "      <td>100300</td>\n",
       "      <td>990.0</td>\n",
       "    </tr>\n",
       "  </tbody>\n",
       "</table>\n",
       "</div>"
      ],
      "text/plain": [
       "   student_id    rev\n",
       "0        1627  990.0\n",
       "1        3185  690.0\n",
       "2       25973  690.0\n",
       "3       26280  690.0\n",
       "4      100300  990.0"
      ]
     },
     "execution_count": 6,
     "metadata": {},
     "output_type": "execute_result"
    }
   ],
   "source": [
    "# файл с информацией об оплатах пользователей в дни проведения эксперимента. \n",
    "checks.head()"
   ]
  },
  {
   "cell_type": "markdown",
   "metadata": {},
   "source": [
    "# Задание 1  \n",
    "### Одной из основных задач аналитика в нашей команде является корректное проведение экспериментов. Для этого мы применяем метод A/B–тестирования. В ходе тестирования одной гипотезы целевой группе была предложена новая механика оплаты услуг на сайте, у контрольной группы оставалась базовая механика. В качестве задания Вам необходимо проанализировать итоги эксперимента и сделать вывод, стоит ли запускать новую механику оплаты на всех пользователей.  \n",
    "### Предлагаем Вам ответить на следующие вопросы:\n",
    "На какие метрики Вы смотрите в ходе анализа и почему?  \n",
    "Имеются ли различия в показателях и с чем они могут быть связаны?  \n",
    "Являются ли эти различия статистически значимыми?  \n",
    "Стоит ли запускать новую механику на всех пользователей?  "
   ]
  },
  {
   "cell_type": "markdown",
   "metadata": {},
   "source": [
    "## Далее будет \"знакомство с данными\" и выводы по \"знакомству\". Выводы между шагами 63 и 64. "
   ]
  },
  {
   "cell_type": "code",
   "execution_count": 7,
   "metadata": {},
   "outputs": [
    {
     "name": "stdout",
     "output_type": "stream",
     "text": [
      "groups_shape = 74484\n",
      "groups_add_shape = 92\n",
      "active_studs_shape = 8341\n",
      "checks_shape = 541\n"
     ]
    }
   ],
   "source": [
    "# Узнаем количество строк в каждой таблице\n",
    "\n",
    "a = [groups, groups_add, active_studs, checks]\n",
    "\n",
    "print('groups_shape =', a[0].shape[0])\n",
    "print('groups_add_shape =', a[1].shape[0])\n",
    "print('active_studs_shape =', a[2].shape[0])\n",
    "print('checks_shape =', a[3].shape[0])"
   ]
  },
  {
   "cell_type": "code",
   "execution_count": 8,
   "metadata": {},
   "outputs": [
    {
     "name": "stdout",
     "output_type": "stream",
     "text": [
      "0\n",
      "0\n",
      "0\n",
      "0\n"
     ]
    }
   ],
   "source": [
    "# Узнаем, есть ли дубликаты - их нет\n",
    "for i in a:\n",
    "    print(i.duplicated().sum())"
   ]
  },
  {
   "cell_type": "code",
   "execution_count": 9,
   "metadata": {},
   "outputs": [
    {
     "name": "stdout",
     "output_type": "stream",
     "text": [
      "id     0\n",
      "grp    0\n",
      "dtype: int64\n",
      "id     0\n",
      "grp    0\n",
      "dtype: int64\n",
      "student_id    0\n",
      "dtype: int64\n",
      "student_id    0\n",
      "rev           0\n",
      "dtype: int64\n"
     ]
    }
   ],
   "source": [
    "# Узнаем, есть ли Null - нет\n",
    "for i in a:\n",
    "    print(i.isna().sum())"
   ]
  },
  {
   "cell_type": "code",
   "execution_count": 10,
   "metadata": {},
   "outputs": [
    {
     "data": {
      "text/html": [
       "<div>\n",
       "<style scoped>\n",
       "    .dataframe tbody tr th:only-of-type {\n",
       "        vertical-align: middle;\n",
       "    }\n",
       "\n",
       "    .dataframe tbody tr th {\n",
       "        vertical-align: top;\n",
       "    }\n",
       "\n",
       "    .dataframe thead th {\n",
       "        text-align: right;\n",
       "    }\n",
       "</style>\n",
       "<table border=\"1\" class=\"dataframe\">\n",
       "  <thead>\n",
       "    <tr style=\"text-align: right;\">\n",
       "      <th></th>\n",
       "      <th>id</th>\n",
       "      <th>grp_x</th>\n",
       "      <th>grp_y</th>\n",
       "    </tr>\n",
       "  </thead>\n",
       "  <tbody>\n",
       "  </tbody>\n",
       "</table>\n",
       "</div>"
      ],
      "text/plain": [
       "Empty DataFrame\n",
       "Columns: [id, grp_x, grp_y]\n",
       "Index: []"
      ]
     },
     "execution_count": 10,
     "metadata": {},
     "output_type": "execute_result"
    }
   ],
   "source": [
    "# нет совпадений в двух таблицах по пользователям. Т.е они уникальны\n",
    "groups.merge(groups_add, on = 'id') "
   ]
  },
  {
   "cell_type": "code",
   "execution_count": 11,
   "metadata": {},
   "outputs": [
    {
     "data": {
      "text/plain": [
       "B    0.803032\n",
       "A    0.196968\n",
       "Name: grp, dtype: float64"
      ]
     },
     "execution_count": 11,
     "metadata": {},
     "output_type": "execute_result"
    }
   ],
   "source": [
    "# посмотрим соотношение \"тестируемых\" и \"контрольных\" в первой таблице\n",
    "groups.grp.value_counts(normalize = True)"
   ]
  },
  {
   "cell_type": "code",
   "execution_count": 12,
   "metadata": {},
   "outputs": [
    {
     "data": {
      "text/plain": [
       "B    0.76087\n",
       "A    0.23913\n",
       "Name: grp, dtype: float64"
      ]
     },
     "execution_count": 12,
     "metadata": {},
     "output_type": "execute_result"
    }
   ],
   "source": [
    "# посмотрим соотношение \"тестируемых\" и \"контрольных\" во второй таблице\n",
    "groups_add.grp.value_counts(normalize = True)"
   ]
  },
  {
   "cell_type": "code",
   "execution_count": 13,
   "metadata": {},
   "outputs": [
    {
     "data": {
      "text/plain": [
       "array([1])"
      ]
     },
     "execution_count": 13,
     "metadata": {},
     "output_type": "execute_result"
    }
   ],
   "source": [
    " # в таблице с посещениями  сайта не отображено количесвто посещений - просто факт того, что как минимум один раз заходил\n",
    "active_studs.student_id.value_counts() \\\n",
    "            .reset_index().student_id.unique()"
   ]
  },
  {
   "cell_type": "code",
   "execution_count": 14,
   "metadata": {},
   "outputs": [
    {
     "data": {
      "text/plain": [
       "array([1])"
      ]
     },
     "execution_count": 14,
     "metadata": {},
     "output_type": "execute_result"
    }
   ],
   "source": [
    "# в таблице с оплатами у каждого оплатившего одна оплата. Допускаю, что в некоторых случаях это может быть сумма оплата за\n",
    "# исследуемый период, но по имещимся данным мы этого не узнаем\n",
    "checks.student_id.value_counts() \\\n",
    "                 .reset_index().student_id.unique()"
   ]
  },
  {
   "cell_type": "code",
   "execution_count": 15,
   "metadata": {},
   "outputs": [
    {
     "data": {
      "text/plain": [
       "1900.0000    97\n",
       "290.0000     94\n",
       "690.0000     78\n",
       "199.0000     46\n",
       "990.0000     41\n",
       "1900.0001    36\n",
       "840.0000     27\n",
       "1140.0000    25\n",
       "580.0000     15\n",
       "590.0000     11\n",
       "398.0000      9\n",
       "1530.0000     8\n",
       "870.0000      6\n",
       "3660.0000     5\n",
       "2910.0000     4\n",
       "2890.0000     4\n",
       "1980.0000     4\n",
       "2099.0000     3\n",
       "489.0000      3\n",
       "1160.0000     3\n",
       "1180.0000     2\n",
       "2220.0000     2\n",
       "2820.0000     2\n",
       "597.0000      1\n",
       "1388.0000     1\n",
       "3260.0000     1\n",
       "880.0000      1\n",
       "3040.0000     1\n",
       "796.0000      1\n",
       "1968.0000     1\n",
       "1339.0000     1\n",
       "4650.0000     1\n",
       "2900.0000     1\n",
       "630.0000      1\n",
       "1830.0000     1\n",
       "1039.0000     1\n",
       "1050.0000     1\n",
       "1729.0000     1\n",
       "2190.0000     1\n",
       "Name: rev, dtype: int64"
      ]
     },
     "execution_count": 15,
     "metadata": {},
     "output_type": "execute_result"
    }
   ],
   "source": [
    "# посмотрим, какие суммы тратили студенты и сколько студентов тратило конкретную сумму\n",
    "\n",
    "checks.rev.value_counts()"
   ]
  },
  {
   "cell_type": "code",
   "execution_count": 16,
   "metadata": {},
   "outputs": [
    {
     "data": {
      "image/png": "[encoded data removed]",
      "text/plain": [
       "<Figure size 1440x504 with 1 Axes>"
      ]
     },
     "metadata": {},
     "output_type": "display_data"
    }
   ],
   "source": [
    "# гистограмма распределения всех чеков\n",
    "qqq = checks.rev.value_counts().reset_index()\n",
    "ax = sns.histplot(qqq['index'], stat = 'probability')\n",
    "ax.set_xlabel('MONEY SPENDED')\n",
    "ax.set_ylabel('PERCENT')\n",
    "ax.set_title('DISTRIBUTION FROM CHECKS')\n",
    "sns.despine()"
   ]
  },
  {
   "cell_type": "code",
   "execution_count": 17,
   "metadata": {},
   "outputs": [
    {
     "data": {
      "text/plain": [
       "B    0.80298\n",
       "A    0.19702\n",
       "Name: grp, dtype: float64"
      ]
     },
     "execution_count": 17,
     "metadata": {},
     "output_type": "execute_result"
    }
   ],
   "source": [
    "# объединим две таблицы, т.к данные в них не повторяются и далее выясним, что 13 из второй таблицы заходили на сайт, а\n",
    "# 1 оплатил услуги. Распределение тестовых и контрольных изменилось незначительно, т.к во второй таблице мало данных и\n",
    "# они схожи по распределению с первой.\n",
    "groups_full = pd.concat([groups, groups_add])\n",
    "groups_full.grp.value_counts(normalize = True)"
   ]
  },
  {
   "cell_type": "code",
   "execution_count": 18,
   "metadata": {},
   "outputs": [
    {
     "data": {
      "text/plain": [
       "B    0.80102\n",
       "A    0.19898\n",
       "Name: grp, dtype: float64"
      ]
     },
     "execution_count": 18,
     "metadata": {},
     "output_type": "execute_result"
    }
   ],
   "source": [
    "# все сджоинили (inner) и посмотрели соотношение. Оно неизменно\n",
    "active_studs.merge(checks, on = 'student_id') \\\n",
    "            .rename(columns = {'student_id' : 'id'}) \\\n",
    "            .merge(groups_full, on = 'id') \\\n",
    "            .grp.value_counts(normalize = True)\n"
   ]
  },
  {
   "cell_type": "code",
   "execution_count": 19,
   "metadata": {},
   "outputs": [
    {
     "data": {
      "text/html": [
       "<div>\n",
       "<style scoped>\n",
       "    .dataframe tbody tr th:only-of-type {\n",
       "        vertical-align: middle;\n",
       "    }\n",
       "\n",
       "    .dataframe tbody tr th {\n",
       "        vertical-align: top;\n",
       "    }\n",
       "\n",
       "    .dataframe thead th {\n",
       "        text-align: right;\n",
       "    }\n",
       "</style>\n",
       "<table border=\"1\" class=\"dataframe\">\n",
       "  <thead>\n",
       "    <tr style=\"text-align: right;\">\n",
       "      <th></th>\n",
       "      <th>student_id</th>\n",
       "      <th>rev</th>\n",
       "    </tr>\n",
       "  </thead>\n",
       "  <tbody>\n",
       "    <tr>\n",
       "      <th>0</th>\n",
       "      <td>1184303</td>\n",
       "      <td>1530.0000</td>\n",
       "    </tr>\n",
       "    <tr>\n",
       "      <th>1</th>\n",
       "      <td>3354191</td>\n",
       "      <td>1900.0001</td>\n",
       "    </tr>\n",
       "    <tr>\n",
       "      <th>2</th>\n",
       "      <td>3278734</td>\n",
       "      <td>1900.0000</td>\n",
       "    </tr>\n",
       "    <tr>\n",
       "      <th>3</th>\n",
       "      <td>720651</td>\n",
       "      <td>1980.0000</td>\n",
       "    </tr>\n",
       "    <tr>\n",
       "      <th>4</th>\n",
       "      <td>1232221</td>\n",
       "      <td>1900.0000</td>\n",
       "    </tr>\n",
       "    <tr>\n",
       "      <th>...</th>\n",
       "      <td>...</td>\n",
       "      <td>...</td>\n",
       "    </tr>\n",
       "    <tr>\n",
       "      <th>387</th>\n",
       "      <td>3890326</td>\n",
       "      <td>199.0000</td>\n",
       "    </tr>\n",
       "    <tr>\n",
       "      <th>388</th>\n",
       "      <td>1390994</td>\n",
       "      <td>398.0000</td>\n",
       "    </tr>\n",
       "    <tr>\n",
       "      <th>389</th>\n",
       "      <td>1516339</td>\n",
       "      <td>290.0000</td>\n",
       "    </tr>\n",
       "    <tr>\n",
       "      <th>390</th>\n",
       "      <td>3910596</td>\n",
       "      <td>597.0000</td>\n",
       "    </tr>\n",
       "    <tr>\n",
       "      <th>391</th>\n",
       "      <td>3610547</td>\n",
       "      <td>290.0000</td>\n",
       "    </tr>\n",
       "  </tbody>\n",
       "</table>\n",
       "<p>392 rows × 2 columns</p>\n",
       "</div>"
      ],
      "text/plain": [
       "     student_id        rev\n",
       "0       1184303  1530.0000\n",
       "1       3354191  1900.0001\n",
       "2       3278734  1900.0000\n",
       "3        720651  1980.0000\n",
       "4       1232221  1900.0000\n",
       "..          ...        ...\n",
       "387     3890326   199.0000\n",
       "388     1390994   398.0000\n",
       "389     1516339   290.0000\n",
       "390     3910596   597.0000\n",
       "391     3610547   290.0000\n",
       "\n",
       "[392 rows x 2 columns]"
      ]
     },
     "execution_count": 19,
     "metadata": {},
     "output_type": "execute_result"
    }
   ],
   "source": [
    "active_studs.merge(checks, on = 'student_id') # видим, что из зашедших на сайт оплатило через него 392 из 541.\n",
    "                                              # значит есть и другие способы оплаты.\n",
    "                                              # и то, не все те, кто зашел через сайт могли оплатить именно через него\n",
    "                                              # но иных данных у нас нет и мы делаем допущение, что все зашедшие на сайт\n",
    "                                              # через него и платили. С учетом что заход у каждого по 1ому и оплата по одной"
   ]
  },
  {
   "cell_type": "code",
   "execution_count": 20,
   "metadata": {},
   "outputs": [
    {
     "data": {
      "text/html": [
       "<div>\n",
       "<style scoped>\n",
       "    .dataframe tbody tr th:only-of-type {\n",
       "        vertical-align: middle;\n",
       "    }\n",
       "\n",
       "    .dataframe tbody tr th {\n",
       "        vertical-align: top;\n",
       "    }\n",
       "\n",
       "    .dataframe thead th {\n",
       "        text-align: right;\n",
       "    }\n",
       "</style>\n",
       "<table border=\"1\" class=\"dataframe\">\n",
       "  <thead>\n",
       "    <tr style=\"text-align: right;\">\n",
       "      <th></th>\n",
       "      <th>id</th>\n",
       "      <th>rev</th>\n",
       "      <th>grp</th>\n",
       "    </tr>\n",
       "  </thead>\n",
       "  <tbody>\n",
       "    <tr>\n",
       "      <th>0</th>\n",
       "      <td>1184303</td>\n",
       "      <td>1530.0000</td>\n",
       "      <td>A</td>\n",
       "    </tr>\n",
       "    <tr>\n",
       "      <th>1</th>\n",
       "      <td>3354191</td>\n",
       "      <td>1900.0001</td>\n",
       "      <td>B</td>\n",
       "    </tr>\n",
       "    <tr>\n",
       "      <th>2</th>\n",
       "      <td>3278734</td>\n",
       "      <td>1900.0000</td>\n",
       "      <td>B</td>\n",
       "    </tr>\n",
       "    <tr>\n",
       "      <th>3</th>\n",
       "      <td>720651</td>\n",
       "      <td>1980.0000</td>\n",
       "      <td>A</td>\n",
       "    </tr>\n",
       "    <tr>\n",
       "      <th>4</th>\n",
       "      <td>1232221</td>\n",
       "      <td>1900.0000</td>\n",
       "      <td>B</td>\n",
       "    </tr>\n",
       "    <tr>\n",
       "      <th>...</th>\n",
       "      <td>...</td>\n",
       "      <td>...</td>\n",
       "      <td>...</td>\n",
       "    </tr>\n",
       "    <tr>\n",
       "      <th>387</th>\n",
       "      <td>3890326</td>\n",
       "      <td>199.0000</td>\n",
       "      <td>B</td>\n",
       "    </tr>\n",
       "    <tr>\n",
       "      <th>388</th>\n",
       "      <td>1390994</td>\n",
       "      <td>398.0000</td>\n",
       "      <td>A</td>\n",
       "    </tr>\n",
       "    <tr>\n",
       "      <th>389</th>\n",
       "      <td>1516339</td>\n",
       "      <td>290.0000</td>\n",
       "      <td>A</td>\n",
       "    </tr>\n",
       "    <tr>\n",
       "      <th>390</th>\n",
       "      <td>3910596</td>\n",
       "      <td>597.0000</td>\n",
       "      <td>B</td>\n",
       "    </tr>\n",
       "    <tr>\n",
       "      <th>391</th>\n",
       "      <td>3610547</td>\n",
       "      <td>290.0000</td>\n",
       "      <td>B</td>\n",
       "    </tr>\n",
       "  </tbody>\n",
       "</table>\n",
       "<p>392 rows × 3 columns</p>\n",
       "</div>"
      ],
      "text/plain": [
       "          id        rev grp\n",
       "0    1184303  1530.0000   A\n",
       "1    3354191  1900.0001   B\n",
       "2    3278734  1900.0000   B\n",
       "3     720651  1980.0000   A\n",
       "4    1232221  1900.0000   B\n",
       "..       ...        ...  ..\n",
       "387  3890326   199.0000   B\n",
       "388  1390994   398.0000   A\n",
       "389  1516339   290.0000   A\n",
       "390  3910596   597.0000   B\n",
       "391  3610547   290.0000   B\n",
       "\n",
       "[392 rows x 3 columns]"
      ]
     },
     "execution_count": 20,
     "metadata": {},
     "output_type": "execute_result"
    }
   ],
   "source": [
    "full_join = active_studs.merge(checks, on = 'student_id') \\\n",
    "                        .rename(columns = {'student_id' : 'id'}) \\\n",
    "                        .merge(groups_full, on = 'id')\n",
    "full_join"
   ]
  },
  {
   "cell_type": "code",
   "execution_count": 21,
   "metadata": {},
   "outputs": [
    {
     "data": {
      "text/plain": [
       "B    0.80102\n",
       "A    0.19898\n",
       "Name: grp, dtype: float64"
      ]
     },
     "execution_count": 21,
     "metadata": {},
     "output_type": "execute_result"
    }
   ],
   "source": [
    "full_join.grp.value_counts(normalize = True)"
   ]
  },
  {
   "cell_type": "code",
   "execution_count": 22,
   "metadata": {},
   "outputs": [
    {
     "data": {
      "text/plain": [
       "B    0.805369\n",
       "A    0.194631\n",
       "Name: grp, dtype: float64"
      ]
     },
     "execution_count": 22,
     "metadata": {},
     "output_type": "execute_result"
    }
   ],
   "source": [
    "# Выведем тех, кто воспользовался другими способами оплаты, т.е кто не заходил на сайт, но оплатил покупку (не через сайт)\n",
    "# Видим, что количество групп пропорционально изначальному распределению кол-ва по группам\n",
    "# в группе, оплативших (по допущению - все оплатившие и зашедщие оплатили через сайт) через сайт соотношение такое же\n",
    "# как и в группе, оплативших не через сайт. это при обеих группах\n",
    "full_join_where_without_web = checks.query('student_id not in @full_join.id') \\\n",
    "                                    .rename(columns = {'student_id' : 'id'}) \\\n",
    "                                    .merge(groups_full, on = 'id')\n",
    "\n",
    "full_join_where_without_web.grp.value_counts(normalize = True)"
   ]
  },
  {
   "cell_type": "code",
   "execution_count": 23,
   "metadata": {},
   "outputs": [
    {
     "data": {
      "text/plain": [
       "B    0.805369\n",
       "A    0.194631\n",
       "Name: grp, dtype: float64"
      ]
     },
     "execution_count": 23,
     "metadata": {},
     "output_type": "execute_result"
    }
   ],
   "source": [
    "# Вывели тех, кто воспользовался другим способом оплаты, но сджойнили только с первой партией пользователей. соотношение 1в1\n",
    "peace_join_where_without_web = checks.query('student_id not in @full_join.id') \\\n",
    "                                     .rename(columns = {'student_id' : 'id'}) \\\n",
    "                                     .merge(groups, on = 'id')\n",
    "\n",
    "peace_join_where_without_web.grp.value_counts(normalize = True)"
   ]
  },
  {
   "cell_type": "code",
   "execution_count": 24,
   "metadata": {},
   "outputs": [
    {
     "data": {
      "text/html": [
       "<div>\n",
       "<style scoped>\n",
       "    .dataframe tbody tr th:only-of-type {\n",
       "        vertical-align: middle;\n",
       "    }\n",
       "\n",
       "    .dataframe tbody tr th {\n",
       "        vertical-align: top;\n",
       "    }\n",
       "\n",
       "    .dataframe thead th {\n",
       "        text-align: right;\n",
       "    }\n",
       "</style>\n",
       "<table border=\"1\" class=\"dataframe\">\n",
       "  <thead>\n",
       "    <tr style=\"text-align: right;\">\n",
       "      <th></th>\n",
       "      <th>id</th>\n",
       "      <th>rev</th>\n",
       "      <th>grp</th>\n",
       "    </tr>\n",
       "  </thead>\n",
       "  <tbody>\n",
       "  </tbody>\n",
       "</table>\n",
       "</div>"
      ],
      "text/plain": [
       "Empty DataFrame\n",
       "Columns: [id, rev, grp]\n",
       "Index: []"
      ]
     },
     "execution_count": 24,
     "metadata": {},
     "output_type": "execute_result"
    }
   ],
   "source": [
    "# Если смотреть со второй партией - пусто. Т.е не было во второй таблице тех, кто оплатил, но не заходил на сайт\n",
    "peace_join_where_without_web = checks.query('student_id not in @full_join.id') \\\n",
    "                                     .rename(columns = {'student_id' : 'id'}) \\\n",
    "                                     .merge(groups_add, on = 'id')\n",
    "\n",
    "peace_join_where_without_web"
   ]
  },
  {
   "cell_type": "code",
   "execution_count": 25,
   "metadata": {},
   "outputs": [
    {
     "data": {
      "text/html": [
       "<div>\n",
       "<style scoped>\n",
       "    .dataframe tbody tr th:only-of-type {\n",
       "        vertical-align: middle;\n",
       "    }\n",
       "\n",
       "    .dataframe tbody tr th {\n",
       "        vertical-align: top;\n",
       "    }\n",
       "\n",
       "    .dataframe thead th {\n",
       "        text-align: right;\n",
       "    }\n",
       "</style>\n",
       "<table border=\"1\" class=\"dataframe\">\n",
       "  <thead>\n",
       "    <tr style=\"text-align: right;\">\n",
       "      <th></th>\n",
       "      <th>id</th>\n",
       "      <th>grp</th>\n",
       "    </tr>\n",
       "  </thead>\n",
       "  <tbody>\n",
       "    <tr>\n",
       "      <th>0</th>\n",
       "      <td>5723133</td>\n",
       "      <td>A</td>\n",
       "    </tr>\n",
       "    <tr>\n",
       "      <th>1</th>\n",
       "      <td>5951797</td>\n",
       "      <td>B</td>\n",
       "    </tr>\n",
       "    <tr>\n",
       "      <th>2</th>\n",
       "      <td>5730382</td>\n",
       "      <td>B</td>\n",
       "    </tr>\n",
       "    <tr>\n",
       "      <th>3</th>\n",
       "      <td>5739944</td>\n",
       "      <td>B</td>\n",
       "    </tr>\n",
       "    <tr>\n",
       "      <th>4</th>\n",
       "      <td>5945085</td>\n",
       "      <td>B</td>\n",
       "    </tr>\n",
       "    <tr>\n",
       "      <th>5</th>\n",
       "      <td>5700613</td>\n",
       "      <td>B</td>\n",
       "    </tr>\n",
       "    <tr>\n",
       "      <th>6</th>\n",
       "      <td>5729371</td>\n",
       "      <td>A</td>\n",
       "    </tr>\n",
       "    <tr>\n",
       "      <th>7</th>\n",
       "      <td>5777081</td>\n",
       "      <td>B</td>\n",
       "    </tr>\n",
       "    <tr>\n",
       "      <th>8</th>\n",
       "      <td>5740903</td>\n",
       "      <td>B</td>\n",
       "    </tr>\n",
       "    <tr>\n",
       "      <th>9</th>\n",
       "      <td>5760471</td>\n",
       "      <td>B</td>\n",
       "    </tr>\n",
       "    <tr>\n",
       "      <th>10</th>\n",
       "      <td>5728431</td>\n",
       "      <td>B</td>\n",
       "    </tr>\n",
       "    <tr>\n",
       "      <th>11</th>\n",
       "      <td>5723648</td>\n",
       "      <td>B</td>\n",
       "    </tr>\n",
       "    <tr>\n",
       "      <th>12</th>\n",
       "      <td>5870856</td>\n",
       "      <td>A</td>\n",
       "    </tr>\n",
       "  </tbody>\n",
       "</table>\n",
       "</div>"
      ],
      "text/plain": [
       "         id grp\n",
       "0   5723133   A\n",
       "1   5951797   B\n",
       "2   5730382   B\n",
       "3   5739944   B\n",
       "4   5945085   B\n",
       "5   5700613   B\n",
       "6   5729371   A\n",
       "7   5777081   B\n",
       "8   5740903   B\n",
       "9   5760471   B\n",
       "10  5728431   B\n",
       "11  5723648   B\n",
       "12  5870856   A"
      ]
     },
     "execution_count": 25,
     "metadata": {},
     "output_type": "execute_result"
    }
   ],
   "source": [
    "# вообще проверим есть ли совпадения из второй партии с посещениями и оплатой\n",
    "active_studs.rename(columns = {'student_id' : 'id'}) \\\n",
    "            .merge(groups_add, on = 'id')"
   ]
  },
  {
   "cell_type": "code",
   "execution_count": 26,
   "metadata": {},
   "outputs": [
    {
     "data": {
      "text/plain": [
       "B    0.769231\n",
       "A    0.230769\n",
       "Name: grp, dtype: float64"
      ]
     },
     "execution_count": 26,
     "metadata": {},
     "output_type": "execute_result"
    }
   ],
   "source": [
    "# посмотрим тоже что и выше, но соотношение A и B\n",
    "active_studs.rename(columns = {'student_id' : 'id'}) \\\n",
    "            .merge(groups_add, on = 'id') \\\n",
    "            .grp.value_counts(normalize = True)"
   ]
  },
  {
   "cell_type": "code",
   "execution_count": 27,
   "metadata": {},
   "outputs": [
    {
     "data": {
      "text/html": [
       "<div>\n",
       "<style scoped>\n",
       "    .dataframe tbody tr th:only-of-type {\n",
       "        vertical-align: middle;\n",
       "    }\n",
       "\n",
       "    .dataframe tbody tr th {\n",
       "        vertical-align: top;\n",
       "    }\n",
       "\n",
       "    .dataframe thead th {\n",
       "        text-align: right;\n",
       "    }\n",
       "</style>\n",
       "<table border=\"1\" class=\"dataframe\">\n",
       "  <thead>\n",
       "    <tr style=\"text-align: right;\">\n",
       "      <th></th>\n",
       "      <th>id</th>\n",
       "      <th>rev</th>\n",
       "      <th>grp</th>\n",
       "    </tr>\n",
       "  </thead>\n",
       "  <tbody>\n",
       "    <tr>\n",
       "      <th>0</th>\n",
       "      <td>5740903</td>\n",
       "      <td>1900.0</td>\n",
       "      <td>B</td>\n",
       "    </tr>\n",
       "  </tbody>\n",
       "</table>\n",
       "</div>"
      ],
      "text/plain": [
       "        id     rev grp\n",
       "0  5740903  1900.0   B"
      ]
     },
     "execution_count": 27,
     "metadata": {},
     "output_type": "execute_result"
    }
   ],
   "source": [
    "# всего один из дополнительной таблицы совершил покупку и она ччерез сайт.\n",
    "checks.rename(columns = {'student_id' : 'id'}) \\\n",
    "      .merge(groups_add, on = 'id')"
   ]
  },
  {
   "cell_type": "code",
   "execution_count": 28,
   "metadata": {},
   "outputs": [
    {
     "data": {
      "text/plain": [
       "B    0.802218\n",
       "A    0.197782\n",
       "Name: grp, dtype: float64"
      ]
     },
     "execution_count": 28,
     "metadata": {},
     "output_type": "execute_result"
    }
   ],
   "source": [
    "# Дополнительно посмотрим распределение А и В в таблице с чеками.\n",
    "checks.rename(columns = {'student_id' : 'id'}) \\\n",
    "      .merge(groups_full, on = 'id') \\\n",
    "      .grp.value_counts(normalize = True)"
   ]
  },
  {
   "cell_type": "code",
   "execution_count": 29,
   "metadata": {},
   "outputs": [
    {
     "data": {
      "text/plain": [
       "B    0.81561\n",
       "A    0.18439\n",
       "Name: grp, dtype: float64"
      ]
     },
     "execution_count": 29,
     "metadata": {},
     "output_type": "execute_result"
    }
   ],
   "source": [
    "# тоже самое, но с посещениями\n",
    "active_studs.rename(columns = {'student_id' : 'id'}).merge(groups_full, on = 'id').grp.value_counts(normalize = True)"
   ]
  },
  {
   "cell_type": "code",
   "execution_count": 30,
   "metadata": {},
   "outputs": [
    {
     "data": {
      "text/plain": [
       "0.11180924762365071"
      ]
     },
     "execution_count": 30,
     "metadata": {},
     "output_type": "execute_result"
    }
   ],
   "source": [
    "# из первой таблицы процент зашедших на сайт\n",
    "active_studs.rename(columns = {'student_id' : 'id'}).merge(groups, on = 'id').shape[0]/groups.shape[0]"
   ]
  },
  {
   "cell_type": "code",
   "execution_count": 31,
   "metadata": {},
   "outputs": [
    {
     "data": {
      "text/plain": [
       "0.14130434782608695"
      ]
     },
     "execution_count": 31,
     "metadata": {},
     "output_type": "execute_result"
    }
   ],
   "source": [
    "# из второй таблицы процент зашедших на сайт\n",
    "active_studs.rename(columns = {'student_id' : 'id'}).merge(groups_add, on = 'id').shape[0]/groups_add.shape[0]"
   ]
  },
  {
   "cell_type": "code",
   "execution_count": 32,
   "metadata": {},
   "outputs": [
    {
     "data": {
      "text/plain": [
       "0.11184563398412357"
      ]
     },
     "execution_count": 32,
     "metadata": {},
     "output_type": "execute_result"
    }
   ],
   "source": [
    "# из объединенной таблицы процент зашедших на сайт\n",
    "active_studs.rename(columns = {'student_id' : 'id'}).merge(groups_full, on = 'id').shape[0]/groups_full.shape[0]"
   ]
  },
  {
   "cell_type": "code",
   "execution_count": 33,
   "metadata": {},
   "outputs": [
    {
     "data": {
      "text/plain": [
       "0.007249879168680522"
      ]
     },
     "execution_count": 33,
     "metadata": {},
     "output_type": "execute_result"
    }
   ],
   "source": [
    "# Из первой таблицы процент купивших (не важно с сайта или нет)\n",
    "checks.rename(columns = {'student_id' : 'id'}).merge(groups, on = 'id').shape[0]/groups.shape[0]"
   ]
  },
  {
   "cell_type": "code",
   "execution_count": 34,
   "metadata": {},
   "outputs": [
    {
     "data": {
      "text/plain": [
       "0.010869565217391304"
      ]
     },
     "execution_count": 34,
     "metadata": {},
     "output_type": "execute_result"
    }
   ],
   "source": [
    "# Из второй таблицы процент купивших (не важно с сайта или нет)\n",
    "checks.rename(columns = {'student_id' : 'id'}).merge(groups_add, on = 'id').shape[0]/groups_add.shape[0]"
   ]
  },
  {
   "cell_type": "code",
   "execution_count": 35,
   "metadata": {},
   "outputs": [
    {
     "data": {
      "text/plain": [
       "0.00725434456125295"
      ]
     },
     "execution_count": 35,
     "metadata": {},
     "output_type": "execute_result"
    }
   ],
   "source": [
    "# из объединенной таблицы процент купивших (не важно с сайта или нет)\n",
    "checks.rename(columns = {'student_id' : 'id'}).merge(groups_full, on = 'id').shape[0]/groups_full.shape[0]"
   ]
  },
  {
   "cell_type": "code",
   "execution_count": 36,
   "metadata": {},
   "outputs": [
    {
     "data": {
      "text/plain": [
       "0.005249449546211267"
      ]
     },
     "execution_count": 36,
     "metadata": {},
     "output_type": "execute_result"
    }
   ],
   "source": [
    "# из первой таблицы процент купивших с сайта (при допущении что все, кто заходил на сайт и купили - купили через сайт)\n",
    "full_join.query('id in @ groups.id').shape[0]/groups.shape[0]"
   ]
  },
  {
   "cell_type": "code",
   "execution_count": 37,
   "metadata": {},
   "outputs": [
    {
     "data": {
      "text/plain": [
       "0.010869565217391304"
      ]
     },
     "execution_count": 37,
     "metadata": {},
     "output_type": "execute_result"
    }
   ],
   "source": [
    "# из второй таблицы процент купивших с сайта (при допущении что все, кто заходил на сайт и купили - купили через сайт)\n",
    "full_join.query('id in @ groups_add.id').shape[0]/groups_add.shape[0]"
   ]
  },
  {
   "cell_type": "code",
   "execution_count": 38,
   "metadata": {},
   "outputs": [
    {
     "data": {
      "text/plain": [
       "0.005256382750482729"
      ]
     },
     "execution_count": 38,
     "metadata": {},
     "output_type": "execute_result"
    }
   ],
   "source": [
    "# из общей таблицы процент купивших с сайта (при допущении что все, кто заходил на сайт и купили - купили через сайт)\n",
    "full_join.query('id in @ groups_full.id').shape[0]/groups_full.shape[0]"
   ]
  },
  {
   "cell_type": "code",
   "execution_count": 39,
   "metadata": {},
   "outputs": [
    {
     "data": {
      "text/html": [
       "<div>\n",
       "<style scoped>\n",
       "    .dataframe tbody tr th:only-of-type {\n",
       "        vertical-align: middle;\n",
       "    }\n",
       "\n",
       "    .dataframe tbody tr th {\n",
       "        vertical-align: top;\n",
       "    }\n",
       "\n",
       "    .dataframe thead th {\n",
       "        text-align: right;\n",
       "    }\n",
       "</style>\n",
       "<table border=\"1\" class=\"dataframe\">\n",
       "  <thead>\n",
       "    <tr style=\"text-align: right;\">\n",
       "      <th></th>\n",
       "      <th>id</th>\n",
       "      <th>rev</th>\n",
       "      <th>grp</th>\n",
       "      <th>pct</th>\n",
       "    </tr>\n",
       "  </thead>\n",
       "  <tbody>\n",
       "    <tr>\n",
       "      <th>0</th>\n",
       "      <td>1184303</td>\n",
       "      <td>1530.0000</td>\n",
       "      <td>A</td>\n",
       "      <td>0.585459</td>\n",
       "    </tr>\n",
       "    <tr>\n",
       "      <th>1</th>\n",
       "      <td>3354191</td>\n",
       "      <td>1900.0001</td>\n",
       "      <td>B</td>\n",
       "      <td>0.882653</td>\n",
       "    </tr>\n",
       "    <tr>\n",
       "      <th>2</th>\n",
       "      <td>3278734</td>\n",
       "      <td>1900.0000</td>\n",
       "      <td>B</td>\n",
       "      <td>0.719388</td>\n",
       "    </tr>\n",
       "    <tr>\n",
       "      <th>3</th>\n",
       "      <td>720651</td>\n",
       "      <td>1980.0000</td>\n",
       "      <td>A</td>\n",
       "      <td>0.933673</td>\n",
       "    </tr>\n",
       "    <tr>\n",
       "      <th>4</th>\n",
       "      <td>1232221</td>\n",
       "      <td>1900.0000</td>\n",
       "      <td>B</td>\n",
       "      <td>0.719388</td>\n",
       "    </tr>\n",
       "    <tr>\n",
       "      <th>...</th>\n",
       "      <td>...</td>\n",
       "      <td>...</td>\n",
       "      <td>...</td>\n",
       "      <td>...</td>\n",
       "    </tr>\n",
       "    <tr>\n",
       "      <th>387</th>\n",
       "      <td>3890326</td>\n",
       "      <td>199.0000</td>\n",
       "      <td>B</td>\n",
       "      <td>0.042092</td>\n",
       "    </tr>\n",
       "    <tr>\n",
       "      <th>388</th>\n",
       "      <td>1390994</td>\n",
       "      <td>398.0000</td>\n",
       "      <td>A</td>\n",
       "      <td>0.270408</td>\n",
       "    </tr>\n",
       "    <tr>\n",
       "      <th>389</th>\n",
       "      <td>1516339</td>\n",
       "      <td>290.0000</td>\n",
       "      <td>A</td>\n",
       "      <td>0.172194</td>\n",
       "    </tr>\n",
       "    <tr>\n",
       "      <th>390</th>\n",
       "      <td>3910596</td>\n",
       "      <td>597.0000</td>\n",
       "      <td>B</td>\n",
       "      <td>0.344388</td>\n",
       "    </tr>\n",
       "    <tr>\n",
       "      <th>391</th>\n",
       "      <td>3610547</td>\n",
       "      <td>290.0000</td>\n",
       "      <td>B</td>\n",
       "      <td>0.172194</td>\n",
       "    </tr>\n",
       "  </tbody>\n",
       "</table>\n",
       "<p>392 rows × 4 columns</p>\n",
       "</div>"
      ],
      "text/plain": [
       "          id        rev grp       pct\n",
       "0    1184303  1530.0000   A  0.585459\n",
       "1    3354191  1900.0001   B  0.882653\n",
       "2    3278734  1900.0000   B  0.719388\n",
       "3     720651  1980.0000   A  0.933673\n",
       "4    1232221  1900.0000   B  0.719388\n",
       "..       ...        ...  ..       ...\n",
       "387  3890326   199.0000   B  0.042092\n",
       "388  1390994   398.0000   A  0.270408\n",
       "389  1516339   290.0000   A  0.172194\n",
       "390  3910596   597.0000   B  0.344388\n",
       "391  3610547   290.0000   B  0.172194\n",
       "\n",
       "[392 rows x 4 columns]"
      ]
     },
     "execution_count": 39,
     "metadata": {},
     "output_type": "execute_result"
    }
   ],
   "source": [
    "# для удобства добавлю процентиль к каждой трате\n",
    "full_join['pct'] = full_join['rev'].rank(pct=True)\n",
    "full_join"
   ]
  },
  {
   "cell_type": "code",
   "execution_count": 40,
   "metadata": {},
   "outputs": [
    {
     "data": {
      "text/plain": [
       "count     392.000000\n",
       "mean     1193.352050\n",
       "std       827.136901\n",
       "min       199.000000\n",
       "25%       290.000000\n",
       "50%       990.000000\n",
       "75%      1900.000000\n",
       "max      4650.000000\n",
       "Name: rev, dtype: float64"
      ]
     },
     "execution_count": 40,
     "metadata": {},
     "output_type": "execute_result"
    }
   ],
   "source": [
    "# Посмотрим основные статистические данные в фулл джойне (те, кто оплатил через сайт (по допущению))\n",
    "full_join.rev.describe()"
   ]
  },
  {
   "cell_type": "code",
   "execution_count": 41,
   "metadata": {},
   "outputs": [
    {
     "data": {
      "text/plain": [
       "1900.0000    93\n",
       "290.0000     70\n",
       "1900.0001    35\n",
       "199.0000     32\n",
       "840.0000     24\n",
       "990.0000     22\n",
       "690.0000     17\n",
       "580.0000     11\n",
       "590.0000     11\n",
       "1140.0000    11\n",
       "1530.0000     8\n",
       "398.0000      7\n",
       "870.0000      6\n",
       "3660.0000     5\n",
       "2910.0000     4\n",
       "2890.0000     4\n",
       "1160.0000     3\n",
       "1980.0000     3\n",
       "2099.0000     3\n",
       "489.0000      3\n",
       "2220.0000     2\n",
       "2820.0000     2\n",
       "2900.0000     1\n",
       "1050.0000     1\n",
       "1039.0000     1\n",
       "2190.0000     1\n",
       "1180.0000     1\n",
       "796.0000      1\n",
       "1388.0000     1\n",
       "4650.0000     1\n",
       "3040.0000     1\n",
       "1968.0000     1\n",
       "880.0000      1\n",
       "1729.0000     1\n",
       "1830.0000     1\n",
       "1339.0000     1\n",
       "3260.0000     1\n",
       "597.0000      1\n",
       "Name: rev, dtype: int64"
      ]
     },
     "execution_count": 41,
     "metadata": {},
     "output_type": "execute_result"
    }
   ],
   "source": [
    "# посмотрим на распределение цен без разбивки на группы А и В\n",
    "full_join.rev.value_counts()"
   ]
  },
  {
   "cell_type": "code",
   "execution_count": 42,
   "metadata": {},
   "outputs": [
    {
     "data": {
      "image/png": "[encoded data removed]",
      "text/plain": [
       "<Figure size 1440x504 with 1 Axes>"
      ]
     },
     "metadata": {},
     "output_type": "display_data"
    }
   ],
   "source": [
    "# Посмотрим общую гистограмму\n",
    "qqqq = full_join.rev.value_counts().reset_index()\n",
    "ax_1 = sns.histplot(qqqq['index'], stat = 'probability')\n",
    "ax_1.set_xlabel('MONEY SPENDED')\n",
    "ax_1.set_ylabel('PERCENT')\n",
    "ax_1.set_title('DISTRIBUTION FROM full_join')\n",
    "sns.despine()"
   ]
  },
  {
   "cell_type": "code",
   "execution_count": 43,
   "metadata": {},
   "outputs": [
    {
     "name": "stderr",
     "output_type": "stream",
     "text": [
      "/opt/tljh/user/lib/python3.7/site-packages/seaborn/_decorators.py:43: FutureWarning: Pass the following variable as a keyword arg: x. From version 0.12, the only valid positional argument will be `data`, and passing other arguments without an explicit keyword will result in an error or misinterpretation.\n",
      "  FutureWarning\n"
     ]
    },
    {
     "data": {
      "text/plain": [
       "<matplotlib.axes._subplots.AxesSubplot at 0x7fbdb4d2dbe0>"
      ]
     },
     "execution_count": 43,
     "metadata": {},
     "output_type": "execute_result"
    },
    {
     "data": {
      "image/png": "[encoded data removed]",
      "text/plain": [
       "<Figure size 1440x504 with 1 Axes>"
      ]
     },
     "metadata": {},
     "output_type": "display_data"
    }
   ],
   "source": [
    "# Посмотрели боксплот без разбивки по группам\n",
    "# видим один выброс\n",
    "sns.boxplot(full_join['rev'])"
   ]
  },
  {
   "cell_type": "code",
   "execution_count": 44,
   "metadata": {},
   "outputs": [
    {
     "data": {
      "text/html": [
       "<div>\n",
       "<style scoped>\n",
       "    .dataframe tbody tr th:only-of-type {\n",
       "        vertical-align: middle;\n",
       "    }\n",
       "\n",
       "    .dataframe tbody tr th {\n",
       "        vertical-align: top;\n",
       "    }\n",
       "\n",
       "    .dataframe thead th {\n",
       "        text-align: right;\n",
       "    }\n",
       "</style>\n",
       "<table border=\"1\" class=\"dataframe\">\n",
       "  <thead>\n",
       "    <tr style=\"text-align: right;\">\n",
       "      <th></th>\n",
       "      <th>count</th>\n",
       "      <th>mean</th>\n",
       "      <th>median</th>\n",
       "    </tr>\n",
       "    <tr>\n",
       "      <th>grp</th>\n",
       "      <th></th>\n",
       "      <th></th>\n",
       "      <th></th>\n",
       "    </tr>\n",
       "  </thead>\n",
       "  <tbody>\n",
       "    <tr>\n",
       "      <th>A</th>\n",
       "      <td>78</td>\n",
       "      <td>933.589744</td>\n",
       "      <td>585.0</td>\n",
       "    </tr>\n",
       "    <tr>\n",
       "      <th>B</th>\n",
       "      <td>314</td>\n",
       "      <td>1257.878992</td>\n",
       "      <td>1140.0</td>\n",
       "    </tr>\n",
       "  </tbody>\n",
       "</table>\n",
       "</div>"
      ],
      "text/plain": [
       "     count         mean  median\n",
       "grp                            \n",
       "A       78   933.589744   585.0\n",
       "B      314  1257.878992  1140.0"
      ]
     },
     "execution_count": 44,
     "metadata": {},
     "output_type": "execute_result"
    }
   ],
   "source": [
    "# визуально кажется, что разница существенная (в медианах и средних по потраченным деньгам пользователей А и В)\n",
    "full_join.groupby('grp')['rev'] \\\n",
    "         .agg(['count', 'mean', 'median']) # .reset_index()"
   ]
  },
  {
   "cell_type": "code",
   "execution_count": 45,
   "metadata": {},
   "outputs": [
    {
     "data": {
      "text/plain": [
       "count      78.000000\n",
       "mean      933.589744\n",
       "std       919.932711\n",
       "min       199.000000\n",
       "25%       290.000000\n",
       "50%       585.000000\n",
       "75%      1114.750000\n",
       "max      3660.000000\n",
       "Name: rev, dtype: float64"
      ]
     },
     "execution_count": 45,
     "metadata": {},
     "output_type": "execute_result"
    }
   ],
   "source": [
    "# Теперь посмотрим по конкретным группам А и B\n",
    "full_join.query('grp == \"A\"').rev.describe()"
   ]
  },
  {
   "cell_type": "code",
   "execution_count": 46,
   "metadata": {},
   "outputs": [
    {
     "data": {
      "text/plain": [
       "count     314.000000\n",
       "mean     1257.878992\n",
       "std       790.864254\n",
       "min       199.000000\n",
       "25%       511.750000\n",
       "50%      1140.000000\n",
       "75%      1900.000000\n",
       "max      4650.000000\n",
       "Name: rev, dtype: float64"
      ]
     },
     "execution_count": 46,
     "metadata": {},
     "output_type": "execute_result"
    }
   ],
   "source": [
    "full_join.query('grp == \"B\"').rev.describe()"
   ]
  },
  {
   "cell_type": "code",
   "execution_count": 47,
   "metadata": {},
   "outputs": [
    {
     "data": {
      "text/plain": [
       "290.0     25\n",
       "580.0      6\n",
       "990.0      5\n",
       "590.0      5\n",
       "199.0      5\n",
       "690.0      4\n",
       "1530.0     3\n",
       "3660.0     3\n",
       "840.0      3\n",
       "1140.0     2\n",
       "489.0      2\n",
       "1160.0     2\n",
       "2820.0     2\n",
       "2910.0     2\n",
       "2890.0     1\n",
       "1180.0     1\n",
       "2900.0     1\n",
       "1830.0     1\n",
       "2220.0     1\n",
       "870.0      1\n",
       "398.0      1\n",
       "1980.0     1\n",
       "1039.0     1\n",
       "Name: rev, dtype: int64"
      ]
     },
     "execution_count": 47,
     "metadata": {},
     "output_type": "execute_result"
    }
   ],
   "source": [
    "# большинство в \"А\" мало тратят (относительно В)\n",
    "full_join.query('grp == \"A\"').rev.value_counts()"
   ]
  },
  {
   "cell_type": "code",
   "execution_count": 48,
   "metadata": {},
   "outputs": [
    {
     "data": {
      "text/plain": [
       "1900.0000    93\n",
       "290.0000     45\n",
       "1900.0001    35\n",
       "199.0000     27\n",
       "840.0000     21\n",
       "990.0000     17\n",
       "690.0000     13\n",
       "1140.0000     9\n",
       "590.0000      6\n",
       "398.0000      6\n",
       "870.0000      5\n",
       "580.0000      5\n",
       "1530.0000     5\n",
       "2890.0000     3\n",
       "2099.0000     3\n",
       "1980.0000     2\n",
       "3660.0000     2\n",
       "2910.0000     2\n",
       "796.0000      1\n",
       "1388.0000     1\n",
       "489.0000      1\n",
       "1160.0000     1\n",
       "2190.0000     1\n",
       "3040.0000     1\n",
       "1968.0000     1\n",
       "880.0000      1\n",
       "1729.0000     1\n",
       "2220.0000     1\n",
       "1339.0000     1\n",
       "4650.0000     1\n",
       "1050.0000     1\n",
       "597.0000      1\n",
       "3260.0000     1\n",
       "Name: rev, dtype: int64"
      ]
     },
     "execution_count": 48,
     "metadata": {},
     "output_type": "execute_result"
    }
   ],
   "source": [
    "full_join.query('grp == \"B\"').rev.value_counts()"
   ]
  },
  {
   "cell_type": "code",
   "execution_count": 49,
   "metadata": {},
   "outputs": [
    {
     "data": {
      "image/png": "[encoded data removed]",
      "text/plain": [
       "<Figure size 1440x504 with 1 Axes>"
      ]
     },
     "metadata": {},
     "output_type": "display_data"
    }
   ],
   "source": [
    "qqqqq = full_join.query('grp == \"A\"').rev.value_counts().reset_index()\n",
    "ax_2 = sns.histplot(qqqqq['index'], stat = 'probability')\n",
    "ax_2.set_xlabel('MONEY SPENDED')\n",
    "ax_2.set_ylabel('PERCENT')\n",
    "ax_2.set_title('DISTRIBUTION FROM \"A\" full_join')\n",
    "sns.despine()"
   ]
  },
  {
   "cell_type": "code",
   "execution_count": 50,
   "metadata": {},
   "outputs": [
    {
     "data": {
      "image/png": "[encoded data removed]",
      "text/plain": [
       "<Figure size 1440x504 with 1 Axes>"
      ]
     },
     "metadata": {},
     "output_type": "display_data"
    }
   ],
   "source": [
    "qqqqqq = full_join.query('grp == \"B\"').rev.value_counts().reset_index()\n",
    "ax_3 = sns.histplot(qqqqqq['index'], stat = 'probability')\n",
    "ax_3.set_xlabel('MONEY SPENDED')\n",
    "ax_3.set_ylabel('PERCENT')\n",
    "ax_3.set_title('DISTRIBUTION FROM \"B\" full_join')\n",
    "sns.despine()"
   ]
  },
  {
   "cell_type": "code",
   "execution_count": 51,
   "metadata": {},
   "outputs": [
    {
     "name": "stderr",
     "output_type": "stream",
     "text": [
      "/opt/tljh/user/lib/python3.7/site-packages/seaborn/_decorators.py:43: FutureWarning: Pass the following variable as a keyword arg: x. From version 0.12, the only valid positional argument will be `data`, and passing other arguments without an explicit keyword will result in an error or misinterpretation.\n",
      "  FutureWarning\n"
     ]
    },
    {
     "data": {
      "text/plain": [
       "<matplotlib.axes._subplots.AxesSubplot at 0x7fbdb4bf2ac8>"
      ]
     },
     "execution_count": 51,
     "metadata": {},
     "output_type": "execute_result"
    },
    {
     "data": {
      "image/png": "[encoded data removed]",
      "text/plain": [
       "<Figure size 1440x504 with 1 Axes>"
      ]
     },
     "metadata": {},
     "output_type": "display_data"
    }
   ],
   "source": [
    "# Есть выбросы, но они не такого масштаба, что бы сильно повлиять на данные.\n",
    "sns.boxplot(full_join.query('grp == \"A\"')['rev'])"
   ]
  },
  {
   "cell_type": "code",
   "execution_count": 52,
   "metadata": {},
   "outputs": [
    {
     "name": "stderr",
     "output_type": "stream",
     "text": [
      "/opt/tljh/user/lib/python3.7/site-packages/seaborn/_decorators.py:43: FutureWarning: Pass the following variable as a keyword arg: x. From version 0.12, the only valid positional argument will be `data`, and passing other arguments without an explicit keyword will result in an error or misinterpretation.\n",
      "  FutureWarning\n"
     ]
    },
    {
     "data": {
      "text/plain": [
       "<matplotlib.axes._subplots.AxesSubplot at 0x7fbdb4bf2b70>"
      ]
     },
     "execution_count": 52,
     "metadata": {},
     "output_type": "execute_result"
    },
    {
     "data": {
      "image/png": "[encoded data removed]",
      "text/plain": [
       "<Figure size 1440x504 with 1 Axes>"
      ]
     },
     "metadata": {},
     "output_type": "display_data"
    }
   ],
   "source": [
    "# один выброс. Медиана сильно дальше у этой группы, чем у A.\n",
    "sns.boxplot(full_join.query('grp == \"B\"')['rev'])"
   ]
  },
  {
   "cell_type": "markdown",
   "metadata": {},
   "source": [
    "#### Ниже будем проверять распределение трат в группах \"A\" и \"B\" на нормальность.  \n",
    "#### H0 - распределение нормально, H1 - распределение не нормально.  \n",
    "#### p-value отражает, какова вероятность получить такой результат при верности нулевой гипотезы.\n",
    "#### В качестве стандарта, при котором мы не будем отвергать H0 выберем p-value >= 0.05.\n",
    "#### Данный тест применяется на небольших выборках, поэтому используем метом sample()\n"
   ]
  },
  {
   "cell_type": "code",
   "execution_count": 53,
   "metadata": {},
   "outputs": [
    {
     "data": {
      "text/plain": [
       "ShapiroResult(statistic=0.6612098217010498, pvalue=9.800612588151125e-08)"
      ]
     },
     "execution_count": 53,
     "metadata": {},
     "output_type": "execute_result"
    }
   ],
   "source": [
    "# Проверим распределение трат в группе \"А\" на нормальность. \n",
    "# 9.800612588151125e-08 < 0.05 - H0 отвергается. Распределение не нормально.\n",
    "stats.shapiro(full_join.query(\"grp == 'A'\")['rev'].sample(35, random_state=17, replace = True))"
   ]
  },
  {
   "cell_type": "code",
   "execution_count": 54,
   "metadata": {},
   "outputs": [
    {
     "data": {
      "text/plain": [
       "ShapiroResult(statistic=0.7670661807060242, pvalue=4.910687039227923e-06)"
      ]
     },
     "execution_count": 54,
     "metadata": {},
     "output_type": "execute_result"
    }
   ],
   "source": [
    "# Повторим тест выше, но теперь без возврата использованных значений\n",
    "# H0, сформулированная выше, отклоняется, поскольку 4.910687039227923e-06 < 0.05. \n",
    "# Принимаем H1 - распределение не нормальное.\n",
    "stats.shapiro(full_join.query(\"grp == 'A'\")['rev'].sample(35, random_state=17))"
   ]
  },
  {
   "cell_type": "code",
   "execution_count": 55,
   "metadata": {},
   "outputs": [
    {
     "data": {
      "text/plain": [
       "ShapiroResult(statistic=0.7901068925857544, pvalue=5.692414539737456e-09)"
      ]
     },
     "execution_count": 55,
     "metadata": {},
     "output_type": "execute_result"
    }
   ],
   "source": [
    "# Проведем тест с группой B.\n",
    "# 5.692414539737456e-09 < 0.05. Отвергаем H0. Принимаем H1 - распределение не нормально.\n",
    "stats.shapiro(full_join.query(\"grp == 'B'\")['rev'].sample(75, random_state=17, replace = True))"
   ]
  },
  {
   "cell_type": "code",
   "execution_count": 56,
   "metadata": {},
   "outputs": [
    {
     "data": {
      "text/plain": [
       "ShapiroResult(statistic=0.8313466310501099, pvalue=8.42423446556495e-08)"
      ]
     },
     "execution_count": 56,
     "metadata": {},
     "output_type": "execute_result"
    }
   ],
   "source": [
    "# Повторим тест выше, но теперь без возврата использованных значений\n",
    "# 8.42423446556495e-08 < 0.05. Отвергаем H0. Принимаем H1 - распределение не нормально.\n",
    "stats.shapiro(full_join.query(\"grp == 'B'\")['rev'].sample(75, random_state=17))"
   ]
  },
  {
   "cell_type": "markdown",
   "metadata": {},
   "source": [
    "предварительно проведу t test (в данном случае сравниваются ARPPU), хотя и не планирую его использовать в качестве основного: выборки не большие, распределение не нормальное: лучше воспользоваться иными тестами.\n",
    "H0 - средние двух групп стат. значимо не отличаются. H1 - средние двух групп отличаются стат. значимо"
   ]
  },
  {
   "cell_type": "code",
   "execution_count": 57,
   "metadata": {},
   "outputs": [
    {
     "data": {
      "text/plain": [
       "Ttest_indResult(statistic=-3.1337795050930985, pvalue=0.0018562025265765867)"
      ]
     },
     "execution_count": 57,
     "metadata": {},
     "output_type": "execute_result"
    }
   ],
   "source": [
    "# 0.0018562025265765867 < 0.05. Вероятность получения такого p-value при верности H0 - 0.0018562025265765867\n",
    "# Отвергаем H0, принимаем H1.\n",
    "stats.ttest_ind(full_join.query(\"grp == 'A'\")['rev'], full_join.query(\"grp == 'B'\")['rev'])"
   ]
  },
  {
   "cell_type": "code",
   "execution_count": 58,
   "metadata": {},
   "outputs": [
    {
     "data": {
      "text/html": [
       "<div>\n",
       "<style scoped>\n",
       "    .dataframe tbody tr th:only-of-type {\n",
       "        vertical-align: middle;\n",
       "    }\n",
       "\n",
       "    .dataframe tbody tr th {\n",
       "        vertical-align: top;\n",
       "    }\n",
       "\n",
       "    .dataframe thead th {\n",
       "        text-align: right;\n",
       "    }\n",
       "</style>\n",
       "<table border=\"1\" class=\"dataframe\">\n",
       "  <thead>\n",
       "    <tr style=\"text-align: right;\">\n",
       "      <th></th>\n",
       "      <th>id</th>\n",
       "      <th>grp</th>\n",
       "      <th>rev</th>\n",
       "      <th>pct</th>\n",
       "    </tr>\n",
       "  </thead>\n",
       "  <tbody>\n",
       "    <tr>\n",
       "      <th>0</th>\n",
       "      <td>581585</td>\n",
       "      <td>A</td>\n",
       "      <td>0.0</td>\n",
       "      <td>0.000000</td>\n",
       "    </tr>\n",
       "    <tr>\n",
       "      <th>1</th>\n",
       "      <td>5723133</td>\n",
       "      <td>A</td>\n",
       "      <td>0.0</td>\n",
       "      <td>0.000000</td>\n",
       "    </tr>\n",
       "    <tr>\n",
       "      <th>2</th>\n",
       "      <td>3276743</td>\n",
       "      <td>B</td>\n",
       "      <td>0.0</td>\n",
       "      <td>0.000000</td>\n",
       "    </tr>\n",
       "    <tr>\n",
       "      <th>3</th>\n",
       "      <td>4238589</td>\n",
       "      <td>A</td>\n",
       "      <td>0.0</td>\n",
       "      <td>0.000000</td>\n",
       "    </tr>\n",
       "    <tr>\n",
       "      <th>4</th>\n",
       "      <td>4475369</td>\n",
       "      <td>B</td>\n",
       "      <td>0.0</td>\n",
       "      <td>0.000000</td>\n",
       "    </tr>\n",
       "    <tr>\n",
       "      <th>...</th>\n",
       "      <td>...</td>\n",
       "      <td>...</td>\n",
       "      <td>...</td>\n",
       "      <td>...</td>\n",
       "    </tr>\n",
       "    <tr>\n",
       "      <th>8336</th>\n",
       "      <td>1794344</td>\n",
       "      <td>B</td>\n",
       "      <td>0.0</td>\n",
       "      <td>0.000000</td>\n",
       "    </tr>\n",
       "    <tr>\n",
       "      <th>8337</th>\n",
       "      <td>296883</td>\n",
       "      <td>B</td>\n",
       "      <td>0.0</td>\n",
       "      <td>0.000000</td>\n",
       "    </tr>\n",
       "    <tr>\n",
       "      <th>8338</th>\n",
       "      <td>3598448</td>\n",
       "      <td>B</td>\n",
       "      <td>0.0</td>\n",
       "      <td>0.000000</td>\n",
       "    </tr>\n",
       "    <tr>\n",
       "      <th>8339</th>\n",
       "      <td>3610547</td>\n",
       "      <td>B</td>\n",
       "      <td>290.0</td>\n",
       "      <td>0.172194</td>\n",
       "    </tr>\n",
       "    <tr>\n",
       "      <th>8340</th>\n",
       "      <td>205705</td>\n",
       "      <td>B</td>\n",
       "      <td>0.0</td>\n",
       "      <td>0.000000</td>\n",
       "    </tr>\n",
       "  </tbody>\n",
       "</table>\n",
       "<p>8341 rows × 4 columns</p>\n",
       "</div>"
      ],
      "text/plain": [
       "           id grp    rev       pct\n",
       "0      581585   A    0.0  0.000000\n",
       "1     5723133   A    0.0  0.000000\n",
       "2     3276743   B    0.0  0.000000\n",
       "3     4238589   A    0.0  0.000000\n",
       "4     4475369   B    0.0  0.000000\n",
       "...       ...  ..    ...       ...\n",
       "8336  1794344   B    0.0  0.000000\n",
       "8337   296883   B    0.0  0.000000\n",
       "8338  3598448   B    0.0  0.000000\n",
       "8339  3610547   B  290.0  0.172194\n",
       "8340   205705   B    0.0  0.000000\n",
       "\n",
       "[8341 rows x 4 columns]"
      ]
     },
     "execution_count": 58,
     "metadata": {},
     "output_type": "execute_result"
    }
   ],
   "source": [
    "# Теперь нужно подготовить таблицу для ARPU и CR, т.к в них нужно учитывать пользователей, которые заходили на сайт.\n",
    "# Сначала сделаю Inner join с зашедшими на сайт и со всеми пользователями из двух таблиц, \n",
    "# потом left join таблицу со всеми, купившими через сайт (при допущении, что зашедший на сайт и купивший - купил через сайт)\n",
    "join_for_ARPU_CR = active_studs.rename(columns = {'student_id': 'id'}) \\\n",
    "                               .merge(groups_full, on = 'id') \\\n",
    "                               .merge(full_join, how = 'left', on = 'id') \\\n",
    "                               .rename(columns = {'grp_x' : 'grp'}) \\\n",
    "                               .fillna(0)\n",
    "         \n",
    "join_for_ARPU_CR = join_for_ARPU_CR.drop(columns={'grp_y'})\n",
    "join_for_ARPU_CR"
   ]
  },
  {
   "cell_type": "code",
   "execution_count": 59,
   "metadata": {},
   "outputs": [
    {
     "data": {
      "text/html": [
       "<div>\n",
       "<style scoped>\n",
       "    .dataframe tbody tr th:only-of-type {\n",
       "        vertical-align: middle;\n",
       "    }\n",
       "\n",
       "    .dataframe tbody tr th {\n",
       "        vertical-align: top;\n",
       "    }\n",
       "\n",
       "    .dataframe thead th {\n",
       "        text-align: right;\n",
       "    }\n",
       "</style>\n",
       "<table border=\"1\" class=\"dataframe\">\n",
       "  <thead>\n",
       "    <tr style=\"text-align: right;\">\n",
       "      <th></th>\n",
       "      <th>count</th>\n",
       "      <th>mean</th>\n",
       "      <th>median</th>\n",
       "    </tr>\n",
       "    <tr>\n",
       "      <th>grp</th>\n",
       "      <th></th>\n",
       "      <th></th>\n",
       "      <th></th>\n",
       "    </tr>\n",
       "  </thead>\n",
       "  <tbody>\n",
       "    <tr>\n",
       "      <th>A</th>\n",
       "      <td>1538</td>\n",
       "      <td>47.347204</td>\n",
       "      <td>0.0</td>\n",
       "    </tr>\n",
       "    <tr>\n",
       "      <th>B</th>\n",
       "      <td>6803</td>\n",
       "      <td>58.058798</td>\n",
       "      <td>0.0</td>\n",
       "    </tr>\n",
       "  </tbody>\n",
       "</table>\n",
       "</div>"
      ],
      "text/plain": [
       "     count       mean  median\n",
       "grp                          \n",
       "A     1538  47.347204     0.0\n",
       "B     6803  58.058798     0.0"
      ]
     },
     "execution_count": 59,
     "metadata": {},
     "output_type": "execute_result"
    }
   ],
   "source": [
    "# Предварительно посмотрим на ARPU выборок. Почему такая медиана - понятно. Среднее сильно отличается. \n",
    "# Данные с точки зрения нормальности распределения итд не должны были измениться,\n",
    "# Поэтому буду использовать тот же статистический метод, что и с ARPPU\n",
    "join_for_ARPU_CR.groupby('grp')['rev'] \\\n",
    "                .agg(['count', 'mean', 'median']) # .reset_index()"
   ]
  },
  {
   "cell_type": "code",
   "execution_count": 60,
   "metadata": {},
   "outputs": [
    {
     "data": {
      "image/png": "[encoded data removed]",
      "text/plain": [
       "<Figure size 1440x504 with 1 Axes>"
      ]
     },
     "metadata": {},
     "output_type": "display_data"
    }
   ],
   "source": [
    "# Распределение очень похоже на то, что было при просмотре данных только по покупкам через сайт. Оно и понятно\n",
    "qqqqqqq = join_for_ARPU_CR.query('grp == \"B\"').rev.value_counts().reset_index()\n",
    "ax_4 = sns.histplot(qqqqqqq['index'], stat = 'probability')\n",
    "ax_4.set_xlabel('MONEY SPENDED')\n",
    "ax_4.set_ylabel('PERCENT')\n",
    "ax_4.set_title('DISTRIBUTION FROM \"B\" join_for_ARPU_CR')\n",
    "sns.despine()"
   ]
  },
  {
   "cell_type": "code",
   "execution_count": 61,
   "metadata": {},
   "outputs": [
    {
     "data": {
      "image/png": "[encoded data removed]",
      "text/plain": [
       "<Figure size 1440x504 with 1 Axes>"
      ]
     },
     "metadata": {},
     "output_type": "display_data"
    }
   ],
   "source": [
    "# Распределение очень похоже на то, что было при просмотре данных только по покупкам через сайт. Оно и понятно\n",
    "qqqqqqqq = join_for_ARPU_CR.query('grp == \"A\"').rev.value_counts().reset_index()\n",
    "ax_5 = sns.histplot(qqqqqqqq['index'], stat = 'probability')\n",
    "ax_5.set_xlabel('MONEY SPENDED')\n",
    "ax_5.set_ylabel('PERCENT')\n",
    "ax_5.set_title('DISTRIBUTION FROM \"A\" join_for_ARPU_CR')\n",
    "sns.despine()"
   ]
  },
  {
   "cell_type": "code",
   "execution_count": 62,
   "metadata": {},
   "outputs": [
    {
     "name": "stdout",
     "output_type": "stream",
     "text": [
      "CR_A = 0.05071521456436931\n",
      "CR_B = 0.046156107599588415\n"
     ]
    }
   ],
   "source": [
    "# Что касается CR:\n",
    "# Не понятно, статзначимо ли различие или нет. Я думаю использовать ХИ квадрат Пирсона, потому что\n",
    "# Распределение ненормальное, группы не взаимосвязаны между собой и, грубо говоря, у нас у каждая группа делится на \n",
    "# просто зашедших и на зашедних и купивших (т.е присутствует качественный тип данных)\n",
    "print('CR_A =', len(join_for_ARPU_CR.query('grp == \"A\" and rev != 0.0')) / len(join_for_ARPU_CR.query('grp == \"A\"')))\n",
    "print('CR_B =', len(join_for_ARPU_CR.query('grp == \"B\" and rev != 0.0')) / len(join_for_ARPU_CR.query('grp == \"B\"')))"
   ]
  },
  {
   "cell_type": "markdown",
   "metadata": {},
   "source": [
    "## Выводы при осмотре данных:   \n",
    "1) Каждый студент, если и был замечен в посещениях, то только один раз. Тоже самое и с оплатой - все по одному разу  \n",
    "2) использовать стоит обе таблицы с группами, т.к во второй все же одна покупка была, причем через сайт.\n",
    "   покупка человека из дополнительной таблицы не является выбросом   \n",
    "3) Т.к не все оплатившие товар/услугу посещали сайт - делаем вывод, что оплата возможна не только через сайт  \n",
    "4) Т.к данные ограничены, сделаем допущение, что все, кто заходил на сайт и совершил оплату - сделал это через сайт.  \n",
    "5) И в объединенной таблице (о принадлежности пользователей к тестовой группе) и в таблице тех, кто оплатил товар через сайт (по допущению, что все, кто заходил на сайт и совершил оплату сделали это через сайт) и среди тех, кто оплатил не через сайт и, соответственно среди тех, кто вообще оплатил и среди тех, кто зашел на сайт соотношение A к B примерно 1/5, хотя и среди зашедших на сайт это соотношение чуть более заметно изменено. Но по логике на заход на сайт фича, которая может проявится только если зайти на сайт, повлиять никак не могла   \n",
    "6) Из второй части таблицы с пользователями (меньшей) % зашедших на сайт - 14,13 % (13 из 92 зашли на сайт), а из первой (крупной) - 11,18% (8328 зашедших из 74 484 человек), Общий - 0,11,18. Стоит ли проверить, статистически значимы ли различия?  \n",
    "7) Из второй части таблицы с пользователями (меньшей) % купивших (не важно через сайт или нет) - 10,87%, а во второй - 0,7%. Общее - 0,7% - во второй таблице выборка слишком мала. Мб проверю на статистически значимые различия  \n",
    "8) Из второй части таблицы с пользователями (меньшей) % купивших (только через сайт, при допущении, что все, кто зашел на сайт и кто сделал покупку - сделали ее через сайт) - 10,87 % (как и в п. 7), из первой таблицы - 0,5%, из общей: 0,5 %  \n",
    "9) Не вижу смысла проводить A/A тест между groups и groups_add, т.к во второй таблице (дополнительные пользователи) очень мало наблюдений и там нет результатов-выбросов, которые существенно могли бы повлиять на результат.  \n",
    "10) Поскольку мы принимаем за оплатившего через сайт того, кто совершил оплату и зашел на сайт одновременно, клиент, не зашедший на сайт никак не мог познакомится с новой платежной механикой, а значит наше изменение в механике на заход на сайт повлиять не могло (можно придумать ситуации, когда могло бы - например е-мейл рассылка с информацией о новой платежной системе, но считаю, что такие моменты мы не должны учитывать). Также Поскольку соотношение в численности групп остается примерно одним и тем же , считаю, что новая платежная система на заход на сайт повлиять не могла и метрики, связанные с этим я проверять не вижу смысла. т.к  сильных выбросов нет, будем считать \"среднее\", а не медиану. Предполагаемые метрики:\n",
    "\n",
    "##### А) ARPPU - сравним, являются ли статичтически значимыми различия между группами А и В в потраченных средствах (среднее) на оплатившего пользователя (через сайт. с поправкой на то, что посетивший сайт и оплативший - сделал это через сайт). Для этого критерия буду использовать бутсрап, как наиболее \"неприхотливый\" тест, т.к выборка не очень большая, а распределение ненормально, выбрсов хоть и мало - но они есть (t-test не лучшая идея в таком случае, даже с логорифмом). Хи квадрат Пирсона также в данном случае не  подходит, т.к сравниваем среднее и тип данных - количественные (деньги). Ho - средний чек обеих групп, среди тех, кто оплатил через сайт (по допущению, что побывавший на сайте и оплативший, сделал это через сайт) стат. значимо не отличается. H1 - средний чек обеих групп, среди тех, кто оплатил через сайт (по допущению, что побывавший на сайте и оплативший, сделал это через сайт) стат. значимо отличается (при верной гипотезе H1, учитывая результаты, очевидно, что группа B более \"успешная\")  \n",
    "##### Б) ARPU - сравним, являются ли статичтически значимыми различия между группами А и В в потраченных средствах (среднее) на пользователя, зашедшего на сайт. Использую тоже самое, что и в слуае с подсчетом ARPPU (бутстрап).  Ho - средний чек обеих групп, среди тех, кто  оплатил через сайт (с учетом всех внутри группы, кто заходил на сайт), стат. значимо не отличается. H1 - средний чек групп, среди тех, кто  оплатил через сайт (с учетом всех внутри группы, кто заходил на сайт), стат. значимо различаются  \n",
    "##### В) CR - сравним, являются ли статичтически значимыми различия между группами А и В в отношении числа пользователей, зашедших на сайт к числу пользователей, совершивших покупку на сайте (при допущении, что любой, кто зашел на сайт и купил - сделал покупку через сайт). Думаю, стоит воспользоваться хи^2 Пиросана.  Кратко: Распределение ненормальное, группы не взаимосвязаны между собой и, грубо говоря, у нас у каждая группа делится на просто зашедших и на зашедних и купивших (т.е присутствует качественный тип данных). В таком случае, лучшим тестом будет ХИ^2 Пирсона. Ho - CR стат. значимо между группами не отличается, новая механика на сайте никак не влияет на количество покупок относительно заходов на сайт, по сравнению со старой механикой. H1 - CR стат. значимо отличается между группами, новая механика на сайте влияет на количество покупок относительно заходов на сайт, по сравнению со старой механикой.  \n",
    "P.s. Во всех тетсах будем брать уровень значимости 0,05 (5%). Это стандарт, и более жесткий уровень значимости (например) 0,01 (1%), в данном случае, считаю, ни к чему."
   ]
  },
  {
   "cell_type": "code",
   "execution_count": null,
   "metadata": {},
   "outputs": [],
   "source": []
  },
  {
   "cell_type": "markdown",
   "metadata": {},
   "source": [
    "### Найдем ARPPU с помощью bootstrap"
   ]
  },
  {
   "cell_type": "code",
   "execution_count": 63,
   "metadata": {},
   "outputs": [],
   "source": [
    "def get_bootstrap(\n",
    "    data_column_1, # числовые значения первой выборки\n",
    "    data_column_2, # числовые значения второй выборки\n",
    "    boot_it = 2500, # количество бутстрэп-подвыборок\n",
    "    statistic = np.mean, # интересующая нас статистика\n",
    "    bootstrap_conf_level = 0.95 # уровень значимости\n",
    "):\n",
    "    boot_len = max([len(data_column_1), len(data_column_2)])\n",
    "    boot_data = []\n",
    "    for i in tqdm(range(boot_it)): # извлекаем подвыборки\n",
    "        samples_1 = data_column_1.sample(\n",
    "            boot_len, \n",
    "            replace = True # параметр возвращения\n",
    "        ).values\n",
    "        \n",
    "        samples_2 = data_column_2.sample(\n",
    "            boot_len, # чтобы сохранить дисперсию, берем такой же размер выборки\n",
    "            replace = True\n",
    "        ).values\n",
    "        \n",
    "        boot_data.append(statistic(samples_1-samples_2)) \n",
    "    pd_boot_data = pd.DataFrame(boot_data)\n",
    "        \n",
    "    left_quant = (1 - bootstrap_conf_level)/2\n",
    "    right_quant = 1 - (1 - bootstrap_conf_level) / 2\n",
    "    quants = pd_boot_data.quantile([left_quant, right_quant])\n",
    "        \n",
    "    p_1 = norm.cdf(\n",
    "        x = 0, \n",
    "        loc = np.mean(boot_data), \n",
    "        scale = np.std(boot_data)\n",
    "    )\n",
    "    p_2 = norm.cdf(\n",
    "        x = 0, \n",
    "        loc = -np.mean(boot_data), \n",
    "        scale = np.std(boot_data)\n",
    "    )\n",
    "    p_value = min(p_1, p_2) * 2\n",
    "        \n",
    "    # Визуализация\n",
    "    _, _, bars = plt.hist(pd_boot_data[0], bins = 50)\n",
    "    for bar in bars:\n",
    "        if abs(bar.get_x()) <= quants.iloc[0][0] or abs(bar.get_x()) >= quants.iloc[1][0]:\n",
    "            bar.set_facecolor('red')\n",
    "        else: \n",
    "            bar.set_facecolor('grey')\n",
    "            bar.set_edgecolor('black')\n",
    "    \n",
    "    plt.style.use('ggplot')\n",
    "    plt.vlines(quants,ymin=0,ymax=50,linestyle='--')\n",
    "    plt.title(\"Histogram of boot_data\")\n",
    "    plt.show()\n",
    "       \n",
    "    return {\"boot_data\": boot_data, \n",
    "            \"quants\": quants, \n",
    "            \"p_value\": p_value}"
   ]
  },
  {
   "cell_type": "markdown",
   "metadata": {},
   "source": [
    "H0 - средний чек обеих групп, среди тех, кто оплатил через сайт (по допущению, что побывавший на сайте и оплативший, сделал это через сайт) стат. значимо не отличается в двух группах  \n",
    "H1 - средний чек обеих групп, среди тех, кто оплатил через сайт (по допущению, что побывавший на сайте и оплативший, сделал это через сайт) стат. значимо отличается в двух группах"
   ]
  },
  {
   "cell_type": "code",
   "execution_count": 64,
   "metadata": {},
   "outputs": [
    {
     "data": {
      "application/vnd.jupyter.widget-view+json": {
       "model_id": "089d4acbdb964202a2a083ba4310e282",
       "version_major": 2,
       "version_minor": 0
      },
      "text/plain": [
       "HBox(children=(FloatProgress(value=0.0, max=2500.0), HTML(value='')))"
      ]
     },
     "metadata": {},
     "output_type": "display_data"
    },
    {
     "name": "stdout",
     "output_type": "stream",
     "text": [
      "\n"
     ]
    },
    {
     "data": {
      "image/png": "[encoded data removed]",
      "text/plain": [
       "<Figure size 1440x504 with 1 Axes>"
      ]
     },
     "metadata": {},
     "output_type": "display_data"
    },
    {
     "data": {
      "text/plain": [
       "4.041789835426994e-06"
      ]
     },
     "execution_count": 64,
     "metadata": {},
     "output_type": "execute_result"
    }
   ],
   "source": [
    "### Вероятность получения такого p-value при верности H0 - 4.041789835426994e-06, что меньше 0,05.\n",
    "### Отвергаем H0, принимаем H1.\n",
    "\n",
    "ARPPU_mean = get_bootstrap(full_join.query('grp == \"A\"')['rev'], full_join.query('grp == \"B\"')['rev'])\n",
    "ARPPU_mean['p_value']"
   ]
  },
  {
   "cell_type": "code",
   "execution_count": 65,
   "metadata": {},
   "outputs": [
    {
     "data": {
      "text/plain": [
       "0      1530.0\n",
       "3      1980.0\n",
       "10      580.0\n",
       "14     2910.0\n",
       "17      690.0\n",
       "        ...  \n",
       "379    3660.0\n",
       "382    2910.0\n",
       "383     290.0\n",
       "388     398.0\n",
       "389     290.0\n",
       "Name: rev, Length: 78, dtype: float64"
      ]
     },
     "execution_count": 65,
     "metadata": {},
     "output_type": "execute_result"
    }
   ],
   "source": [
    "full_join.query('grp == \"A\"')['rev']"
   ]
  },
  {
   "cell_type": "markdown",
   "metadata": {},
   "source": []
  },
  {
   "cell_type": "markdown",
   "metadata": {},
   "source": [
    "### Найдем ARPU с помощью bootstrap"
   ]
  },
  {
   "cell_type": "markdown",
   "metadata": {},
   "source": [
    "Ho - средний чек обеих групп, среди тех, кто  оплатил через сайт (с учетом всех внутри группы, кто заходил на сайт), стат. значимо не отличается.  \n",
    "H1 - средний чек групп, среди тех, кто  оплатил через сайт (с учетом всех внутри группы, кто заходил на сайт), стат. значимо различаются  "
   ]
  },
  {
   "cell_type": "code",
   "execution_count": 66,
   "metadata": {},
   "outputs": [
    {
     "data": {
      "application/vnd.jupyter.widget-view+json": {
       "model_id": "916117c0a4e44d119b6c544304f2a782",
       "version_major": 2,
       "version_minor": 0
      },
      "text/plain": [
       "HBox(children=(FloatProgress(value=0.0, max=2500.0), HTML(value='')))"
      ]
     },
     "metadata": {},
     "output_type": "display_data"
    },
    {
     "name": "stdout",
     "output_type": "stream",
     "text": [
      "\n"
     ]
    },
    {
     "data": {
      "image/png": "[encoded data removed]",
      "text/plain": [
       "<Figure size 1440x504 with 1 Axes>"
      ]
     },
     "metadata": {},
     "output_type": "display_data"
    },
    {
     "data": {
      "text/plain": [
       "0.03476360621718626"
      ]
     },
     "execution_count": 66,
     "metadata": {},
     "output_type": "execute_result"
    }
   ],
   "source": [
    "# Вероятность получения такого p-value при верности H0 - 0.03476360621718626, что меньше 0,05.\n",
    "# Отвергаем H0, принимаем H1.\n",
    "ARPU_mean = get_bootstrap(join_for_ARPU_CR.query('grp == \"A\"')['rev'], join_for_ARPU_CR.query('grp == \"B\"')['rev'])\n",
    "ARPU_mean['p_value']"
   ]
  },
  {
   "cell_type": "markdown",
   "metadata": {},
   "source": [
    "### Найдем CR с помощью ХИ^2 Пирсона"
   ]
  },
  {
   "cell_type": "markdown",
   "metadata": {},
   "source": [
    "Используем ХИ^2 Пирсона для того, что бы узнать, различается ли стат. значимо CR (процент тех, кто зашел на сайт и купил от тех, кто зашел на сайт) групп.\n",
    "H0 - CR стат. значимо не различается. H1 - CR различается стат. значимо."
   ]
  },
  {
   "cell_type": "code",
   "execution_count": 67,
   "metadata": {},
   "outputs": [
    {
     "name": "stdout",
     "output_type": "stream",
     "text": [
      "chisq-statistic=0.4848, p-value=0.48625, df=1 expected=[[  72.28102146 1465.71897854]\n",
      " [ 319.71897854 6483.28102146]]\n"
     ]
    }
   ],
   "source": [
    "# P-value = 0.48625 (48,6%), что намного больше 0.05 (5 %).\n",
    "# Вероятность получения такого p-value при верности H0 = 48,6%. Мы не можем отвергнуть H0\n",
    "for_CR = np.array([[len(join_for_ARPU_CR.query('grp == \"A\" and rev != 0.0')),\\\n",
    "                   len(join_for_ARPU_CR.query('grp == \"A\"')) - len(join_for_ARPU_CR.query('grp == \"A\" and rev != 0.0'))],\\\n",
    "                   [len(join_for_ARPU_CR.query('grp == \"B\" and rev != 0.0')),\\\n",
    "                   len(join_for_ARPU_CR.query('grp == \"B\"')) - len(join_for_ARPU_CR.query('grp == \"B\" and rev != 0.0'))]]) \n",
    "\n",
    "CR_chi2_contingency = chi2_contingency(for_CR)\n",
    "print('chisq-statistic=%.4f, p-value=%.5f, df=%i expected=%s'%CR_chi2_contingency)"
   ]
  },
  {
   "cell_type": "code",
   "execution_count": 68,
   "metadata": {},
   "outputs": [
    {
     "data": {
      "text/html": [
       "<div>\n",
       "<style scoped>\n",
       "    .dataframe tbody tr th:only-of-type {\n",
       "        vertical-align: middle;\n",
       "    }\n",
       "\n",
       "    .dataframe tbody tr th {\n",
       "        vertical-align: top;\n",
       "    }\n",
       "\n",
       "    .dataframe thead th {\n",
       "        text-align: right;\n",
       "    }\n",
       "</style>\n",
       "<table border=\"1\" class=\"dataframe\">\n",
       "  <thead>\n",
       "    <tr style=\"text-align: right;\">\n",
       "      <th></th>\n",
       "      <th>ARPPU</th>\n",
       "      <th>ARPU</th>\n",
       "      <th>CR</th>\n",
       "    </tr>\n",
       "  </thead>\n",
       "  <tbody>\n",
       "    <tr>\n",
       "      <th>H0</th>\n",
       "      <td>False</td>\n",
       "      <td>False</td>\n",
       "      <td>True</td>\n",
       "    </tr>\n",
       "    <tr>\n",
       "      <th>H1</th>\n",
       "      <td>True</td>\n",
       "      <td>True</td>\n",
       "      <td>False</td>\n",
       "    </tr>\n",
       "  </tbody>\n",
       "</table>\n",
       "</div>"
      ],
      "text/plain": [
       "    ARPPU   ARPU     CR\n",
       "H0  False  False   True\n",
       "H1   True   True  False"
      ]
     },
     "execution_count": 68,
     "metadata": {},
     "output_type": "execute_result"
    }
   ],
   "source": [
    "# Итог по метрикам и гипотизам к ним.\n",
    "p = {'ARPPU': [False, True], 'ARPU': [False, True], 'CR': [True, False]}\n",
    "pd.DataFrame(data=p, index=['H0', 'H1'])"
   ]
  },
  {
   "cell_type": "code",
   "execution_count": 69,
   "metadata": {},
   "outputs": [
    {
     "data": {
      "text/plain": [
       "array([[  78, 1460],\n",
       "       [ 314, 6489]])"
      ]
     },
     "execution_count": 69,
     "metadata": {},
     "output_type": "execute_result"
    }
   ],
   "source": [
    "for_CR"
   ]
  },
  {
   "cell_type": "markdown",
   "metadata": {},
   "source": [
    "# Выводы по заданию 1 и ответы на вопросы:  \n",
    "\n",
    "### 1) На какие метрики Вы смотрите в ходе анализа и почему?  \n",
    "\n",
    "Ответ: Метрики, на которые я решил обратить внимание и сравнить их стат. значимое различие в группах A и B:   \n",
    "А) ARPPU - средний чек тех, кто совершил оплату на сайте (при допущении, что все, кто зашел на сайт и оплатил - сделали это через сайт). В целом, у нас есть только информация по заходам на сайт и по суммам, потраченным через сайт (а также  через что-то иное). Соответственно, изменение механики оплаты могло повлиять на размер оплаты, или количество оплат разными пользователями (учитываем, что в данных у нас один и тот же пользователь не совершает покупку дважды, возможно автоматом покупки суммируются по каждому пользователю). Также можно было рассмотреть вариант с тем, что одна из групп чаще другой заходит на сайт, но во первых, как изменение механики оплаты могло повлиять на количество заходов на сайт, если что бы увидеть эти изменения, сначала нужно зайти на сайт, во вторых, я визуально посмотрел сооношение групп A и B в том числе по заходам на сайт - оно везде примерно 1/5, хотя в случае с заходом на сайт почему-то ближе к 1/4, однако я считаю, что именно логикой и недостаточным изменением соотношения заходов на сайт относительно соотношения выборок A и B позволяет нам не проверять гипотезу о влиянии изменения механики на количество заходов на сайт (к слову, у нас нет информации по количеству заходов каждым пользователем, только о факте хотя бы одного захода). В связи с вышеизложенным, сверять стат. значимые отличия (между A и B) среднего чека тех, кто совершил оплату на сайте (с учетом ранее озвученным допущением), считаю одним из немногих возможных вариантов, в условиях ограниченности данных. Мой выбор пал на среднее, а не медиану, потому что выбросов почти не было и среднее вполне подойдет. При этом, я считаю странным, что измение механики оплаты могло повлиять на ARPPU. Гораздо логичнее было бы, если бы механика позволила привлечь больше/меньше студентов к оплате - появился новый удобный/неудобный способ. Свои предположения на этот счет я изложу при ответе на второй вопрос.  \n",
    "Б) ARPU - средний чек тех, кто совершил оплату на сайте (при допущении, что все, кто зашел на сайт и оплатил - сделали это через сайт) с учетом всех пользователей внутри группы, которые зашли на сайт. Многоие описанное в подпункте A) справедливо и для ARPU. Оно могло бы быть отличным от ARPPU (в контексте стат. значимости), если бы CR значительно отличался друг от друга, поэтому данную метрику также стоило проверить. Опять же, у меня есть некоторое непонимание, как механика оплаты на сайте могла повлиять на данную метрику, но об этом в ответе на 2 вопрос.  \n",
    "В) CR  - Отношение числа тех (внутри групп A и B), кто оплатил покупку через сайт (при допущении, что все, кто зашел на сайт и оплатил - сделали это через сайт) к тем, кто зашел на сайт (выбрали не всех, а тех, кто именно зашел на сайт, потому, что те, кто на сайт не зашел, не могли увидеть новую механику оплаты (впрочем как и старую)). Именно на этот показатель должна была повлиять измененная механика оплаты больше всего (кому-то стало удобнее платить или наоборот, соответственно больше человек приобрело услугу от тех, кто зашел на сайт). Однако, мне не удалось найти стат. значимых различий в данной метрике.  \n",
    "\n",
    "### 2) Имеются ли различия в показателях и с чем они могут быть связаны?  3) Являются ли эти различия статистически значимыми? \n",
    "\n",
    "Ответ: В соответствии с проведенными экспериментами, выявлено, что ARPPU у групп A и B отличается статзначимо. ARPU также стат. значимо отличается. Что касается CR - мы не смогли отвергнуть нулевую гипотезу, а значит принимаем, что CR групп A и B стат. значимо не отличается. Вопрос: в связи с чем могут быть связаны данные различия/отсутствия различий между группами с новой механикой оплаты и со старой механикой? \n",
    "Насчет стат. значимых изменений ARPPU и ARPU и отсутствия стат. значимых изменений в CR в группе A и B - сложно понять, учитывая, что по логике новая механика оплаты никак средний чек не должна была увеличить, а вот CR, наоборот, мог измениться. Могу лишь предложить один из вариантов, когда такое все же могло произойти, но он несколько надуманный:  \n",
    "    Новая механика в оплате лучше работает, допустим с айфоном, но хуже с андройдом. В результате в группе B, где механика была изменена, было больше пользователей с айфоном, но вот пользователей с андройдом уменьшилось. В результате CR не поменялся, но т.к пользователи айфона в среднем больше зарабатывают (допустим), то и татить они могут больше, что увеличило средний чек в группе B. Но это все теории - данных слишком мало, что бы сделать полноценный вывод, основываясь на них. В целом, я придерживаюсь мнения, что на ARPPU и ARPU повлиял еще один фактор, о котором у нас нет данных в данный момент.\n",
    "\n",
    "### 4) Стоит ли запускать новую механику на всех пользователей?  \n",
    "\n",
    "Ответ: результаты говорят, что да. Однако, я считаю, что новая механика оплаты в первую очередь должна была повлиять на CR, а не на ARPU и ARPPU. Сложно представить ситуацию, когда более удобный или менее удобный способ оплаты через сайт мог серьезно повлиять на средний чек (в п.2 я попытался представить такую ситуацию). Я считаю, что раз с изменением в лучшую сторону CR новая механика не справляется, а ARPU и ARPPU новая механика оплаты через сайт не должна была увеличить, нам нужно повременить с запуском новой механики и найти реальные причины, почему ARPU и ARPPU у группы B изменилось в лучшую сторону. Могут быть факторы, которые коррелируют с новой системой оплаты и уже они влияют на ARPU и ARPPU. Возможно, окажется, что я не прав и новая механика оплаты может сама по себе повлиять на средний чек, но перед этим нужно проверить другие варианты, более логичные и вероятные."
   ]
  },
  {
   "cell_type": "code",
   "execution_count": null,
   "metadata": {},
   "outputs": [],
   "source": []
  },
  {
   "cell_type": "code",
   "execution_count": null,
   "metadata": {},
   "outputs": [],
   "source": []
  },
  {
   "cell_type": "markdown",
   "metadata": {},
   "source": [
    "# Задание 2 SQL"
   ]
  },
  {
   "cell_type": "markdown",
   "metadata": {},
   "source": [
    "### 2.1. Образовательные курсы состоят из различных уроков, каждый из которых состоит из нескольких маленьких заданий. Каждое такое маленькое задание называется \"горошиной\". Необходимо написать оптимальный запрос, который даст информацию о количестве очень усердных студентов.  Под усердным студентом мы понимаем студента, который правильно решил 20 задач за текущий месяц. Назовём очень усердным учеником того пользователя, который хотя бы раз за текущий месяц правильно решил 20 горошин. \n",
    "\n"
   ]
  },
  {
   "cell_type": "code",
   "execution_count": 70,
   "metadata": {},
   "outputs": [],
   "source": [
    "connection = dict(database='default',\n",
    "                  host='https://clickhouse.lab.karpov.courses',\n",
    "                  user='student',\n",
    "                  password='dpo_python_2020')"
   ]
  },
  {
   "cell_type": "code",
   "execution_count": 71,
   "metadata": {},
   "outputs": [
    {
     "data": {
      "text/html": [
       "<div>\n",
       "<style scoped>\n",
       "    .dataframe tbody tr th:only-of-type {\n",
       "        vertical-align: middle;\n",
       "    }\n",
       "\n",
       "    .dataframe tbody tr th {\n",
       "        vertical-align: top;\n",
       "    }\n",
       "\n",
       "    .dataframe thead th {\n",
       "        text-align: right;\n",
       "    }\n",
       "</style>\n",
       "<table border=\"1\" class=\"dataframe\">\n",
       "  <thead>\n",
       "    <tr style=\"text-align: right;\">\n",
       "      <th></th>\n",
       "      <th>Count_cool_st</th>\n",
       "    </tr>\n",
       "  </thead>\n",
       "  <tbody>\n",
       "    <tr>\n",
       "      <th>0</th>\n",
       "      <td>136</td>\n",
       "    </tr>\n",
       "  </tbody>\n",
       "</table>\n",
       "</div>"
      ],
      "text/plain": [
       "   Count_cool_st\n",
       "0            136"
      ]
     },
     "execution_count": 71,
     "metadata": {},
     "output_type": "execute_result"
    }
   ],
   "source": [
    "#-- запрос написан для многоразового использования, потому что \"текущий месяц\" - явно \"максимальный месяц + год\", \n",
    "#содержащийся в таблице и при ее обновлении данных, код сработает как и должен. Да, тут два подзапроса, \n",
    "# но зато код не под конкретный месяц. Также есть момент, что под очень усердным учеником понимается ученик, решивший\n",
    "# ровно 20 горошин, если судить по условию, но я думаю, логично, что тот, кто решил 21 горошину - тоже очень усердный,\n",
    "# если, конечно, для них нет отдельной классификации.\n",
    "\n",
    "\n",
    "query = \"\"\"\n",
    "SELECT Count(st_id) as Count_cool_st   -- DISTINCT можно не писать, т.к была группировка\n",
    "FROM (\n",
    "      SELECT st_id, sum(correct) as sum_correct_results\n",
    "      FROM default.peas\n",
    "      WHERE toStartOfMonth(timest) in ( \n",
    "                                       SELECT MAX(toStartOfMonth(timest)) AS MaxDate\n",
    "                                       FROM default.peas\n",
    "                                                        )\n",
    "      GROUP BY st_id\n",
    "      HAVING sum_correct_results >= 20  \n",
    "                                      ) as l\n",
    "\"\"\"\n",
    "df_for_2_1 = ph.read_clickhouse(query, connection=connection)\n",
    "df_for_2_1 # ответ: 136 студентов за текущий месяц решили 20+ горошин"
   ]
  },
  {
   "cell_type": "code",
   "execution_count": null,
   "metadata": {},
   "outputs": [],
   "source": []
  },
  {
   "cell_type": "markdown",
   "metadata": {},
   "source": [
    "### 2.2 Оптимизация воронки.\n",
    "### Образовательная платформа предлагает пройти студентам курсы по модели trial: студент может решить бесплатно лишь 30 горошин в день. Для неограниченного количества заданий в определенной дисциплине студенту необходимо приобрести полный доступ. Команда провела эксперимент, где был протестирован новый экран оплаты.\n",
    "### Необходимо в одном запросе выгрузить следующую информацию о группах пользователей:\n",
    "\n",
    "ARPU   \n",
    "ARPAU   \n",
    "CR в покупку   \n",
    "СR активного пользователя в покупку   \n",
    "CR пользователя из активности по математике (subject = ’math’) в покупку курса по математике  \n",
    "ARPU считается относительно всех пользователей, попавших в группы.  \n",
    "\n",
    "Активным считается пользователь, за все время решивший больше 10 задач правильно в любых дисциплинах.  \n",
    "\n",
    "Активным по математике считается пользователь, за все время решивший 2 или больше задач правильно по математике."
   ]
  },
  {
   "cell_type": "code",
   "execution_count": 72,
   "metadata": {},
   "outputs": [
    {
     "data": {
      "text/html": [
       "<div>\n",
       "<style scoped>\n",
       "    .dataframe tbody tr th:only-of-type {\n",
       "        vertical-align: middle;\n",
       "    }\n",
       "\n",
       "    .dataframe tbody tr th {\n",
       "        vertical-align: top;\n",
       "    }\n",
       "\n",
       "    .dataframe thead th {\n",
       "        text-align: right;\n",
       "    }\n",
       "</style>\n",
       "<table border=\"1\" class=\"dataframe\">\n",
       "  <thead>\n",
       "    <tr style=\"text-align: right;\">\n",
       "      <th></th>\n",
       "      <th>test_grp</th>\n",
       "      <th>ARPU</th>\n",
       "      <th>ARPPU</th>\n",
       "      <th>CR_purchase</th>\n",
       "      <th>CR_active_purchase</th>\n",
       "      <th>CR_active_math</th>\n",
       "    </tr>\n",
       "  </thead>\n",
       "  <tbody>\n",
       "    <tr>\n",
       "      <th>0</th>\n",
       "      <td>control</td>\n",
       "      <td>5129.63</td>\n",
       "      <td>76944.44</td>\n",
       "      <td>9.09%</td>\n",
       "      <td>10.61%</td>\n",
       "      <td>6.12%</td>\n",
       "    </tr>\n",
       "    <tr>\n",
       "      <th>1</th>\n",
       "      <td>pilot</td>\n",
       "      <td>12435.90</td>\n",
       "      <td>78953.49</td>\n",
       "      <td>22.07%</td>\n",
       "      <td>24.75%</td>\n",
       "      <td>9.52%</td>\n",
       "    </tr>\n",
       "  </tbody>\n",
       "</table>\n",
       "</div>"
      ],
      "text/plain": [
       "  test_grp      ARPU     ARPPU CR_purchase CR_active_purchase CR_active_math\n",
       "0  control   5129.63  76944.44       9.09%             10.61%          6.12%\n",
       "1    pilot  12435.90  78953.49      22.07%             24.75%          9.52%"
      ]
     },
     "execution_count": 72,
     "metadata": {},
     "output_type": "execute_result"
    }
   ],
   "source": [
    "\n",
    "query_1 = \"\"\"\n",
    "WITH first_part as (\n",
    "\n",
    "SELECT l.st_id, l.correct, l.subject, r.money \n",
    "FROM default.peas as l\n",
    "LEFT JOIN default.final_project_check as r              \n",
    "ON l.st_id = r.st_id and l.subject = r.subject \n",
    "UNION ALL      -- однако у нас могли быть и те, кто купил, но не проходил вообще ничего (включая купленный предмет). Поскольку эксперимент был связан с изменением дисплея окна оплаты, их тоже нужно учитывать\n",
    "SELECT st_id, 0 as correct, subject, money  -- т.к они ничего даже не пытались сдавать, то можно поставить 0. В данном случае так можно сделать, т.к максимум нам придется вести подсчет УСПЕШНЫХ сдач.\n",
    "FROM final_project_check \n",
    "WHERE st_id not in (SELECT st_id  \n",
    "                    FROM peas) -- помним, что из-за того, что один и тот же студент мог решать несколько заданий по одному и тому же предмету, сумма оплаты при ее сложении, может дать некорректный результат\n",
    "                              ),\n",
    "                              \n",
    "-- выгружаем тех, кто купил курс по предмету, но не пробовал его проходить, при этом пытался решать задания другого курса\n",
    "second_part as ( \n",
    "SELECT l.st_id, 0 as correct, l.subject, r.money \n",
    "FROM (\n",
    "SELECT st_id, subject\n",
    "FROM final_project_check  \n",
    "EXCEPT \n",
    "SELECT st_id, subject\n",
    "FROM first_part) as l    \n",
    "INNER JOIN final_project_check as r           \n",
    "ON l.st_id = r.st_id and l.subject = r.subject     \n",
    "               ), \n",
    "\n",
    "\n",
    "main_table as (\n",
    "\n",
    "SELECT l.st_id, l.correct, l.subject, l.money, r.test_grp\n",
    "FROM (\n",
    "SELECT st_id, correct, subject, money\n",
    "FROM first_part\n",
    "UNION ALL \n",
    "SELECT st_id, correct, subject, money\n",
    "FROM second_part) as l\n",
    "LEFT JOIN studs as r  \n",
    "ON l.st_id = r.st_id),\n",
    "\n",
    "\n",
    "arpu_table as ( \n",
    "\n",
    "SELECT test_grp, ROUND(AVG(money),2) as ARPU\n",
    "FROM (\n",
    "SELECT DISTINCT st_id, subject, money, test_grp\n",
    "FROM main_table) as l\n",
    "GROUP BY test_grp),\n",
    "\n",
    "\n",
    "arppu_table as ( \n",
    "\n",
    "SELECT test_grp, ROUND(AVG(money), 2) as ARPPU                    \n",
    "FROM (\n",
    "SELECT DISTINCT st_id, subject, money, test_grp \n",
    "FROM main_table\n",
    "WHERE money > 0) as l \n",
    "GROUP BY test_grp),\n",
    "\n",
    "\n",
    "cr_purchase_table as ( \n",
    "SELECT test_grp, ROUND(AVG(buy_one_or_more),5) as CR_purchase\n",
    "FROM (\n",
    "SELECT DISTINCT st_id, test_grp, 1 as buy_one_or_more \n",
    "FROM main_table\n",
    "WHERE st_id in (\n",
    "                SELECT st_id\n",
    "                FROM (\n",
    "                SELECT DISTINCT st_id, subject, money, test_grp, CASE WHEN money > 0 THEN 1 ELSE 0 END for_cr \n",
    "                FROM main_table) as l\n",
    "                GROUP BY st_id\n",
    "                HAVING sum(for_cr) >= 1) \n",
    "UNION ALL \n",
    "SELECT DISTINCT st_id, test_grp, 0 as buy_one_or_more\n",
    "FROM main_table\n",
    "WHERE st_id not in (SELECT st_id FROM final_project_check) \n",
    ") as t     \n",
    "GROUP BY test_grp),\n",
    "\n",
    "\n",
    "\n",
    "cr_purchase_active_table as (         \n",
    "\n",
    "SELECT test_grp, ROUND(AVG(buy_one_or_more),5) as CR_active_purchase\n",
    "FROM (\n",
    "SELECT DISTINCT st_id, test_grp, 1 as buy_one_or_more \n",
    "FROM main_table\n",
    "WHERE st_id in (\n",
    "                SELECT st_id\n",
    "                FROM (\n",
    "                SELECT DISTINCT st_id, subject, money, test_grp, CASE WHEN money > 0 THEN 1 ELSE 0 END for_cr \n",
    "                FROM main_table) as l\n",
    "                GROUP BY st_id\n",
    "                HAVING sum(for_cr) >= 1) \n",
    "UNION ALL \n",
    "SELECT DISTINCT st_id, test_grp, 0 as buy_one_or_more \n",
    "FROM main_table\n",
    "WHERE st_id not in (SELECT st_id FROM final_project_check) \n",
    ") as t     \n",
    "WHERE st_id in (SELECT st_id\n",
    "                FROM (\n",
    "                      SELECT st_id, sum(correct) as sum_cor\n",
    "                      FROM main_table\n",
    "                      GROUP BY st_id\n",
    "                      HAVING sum(correct) >= 10)) -- отбираем только активных\n",
    "GROUP BY test_grp),\n",
    " \n",
    "               \n",
    "\n",
    "cr_active_math as (\n",
    "SELECT test_grp, ROUND(AVG(buy_math_subj),5) as CR_active_math\n",
    "FROM (\n",
    "SELECT DISTINCT st_id, money, test_grp, CASE WHEN money > 0 THEN 1 ELSE 0 END as buy_math_subj\n",
    "FROM main_table\n",
    "WHERE st_id in ( \n",
    "SELECT st_id\n",
    "FROM main_table\n",
    "WHERE subject ilike 'math' \n",
    "GROUP BY st_id\n",
    "HAVING sum(correct) >= 2)  and subject ilike 'math'\n",
    "                                                   ) as l\n",
    "GROUP BY test_grp)\n",
    "\n",
    "\n",
    "\n",
    "SELECT test_grp, ARPU, ARPPU, CR_purchase, CR_active_purchase, CONCAT(toString(ROUND((CR_active_math * 100),2)),'%') as CR_active_math\n",
    "FROM (\n",
    "SELECT test_grp, ARPU, ARPPU, CR_purchase, CONCAT(toString(ROUND((CR_active_purchase * 100),2)),'%') as CR_active_purchase \n",
    "FROM (\n",
    "SELECT test_grp, ARPU, ARPPU, CONCAT(toString(ROUND((CR_purchase * 100),2)),'%') as CR_purchase \n",
    "FROM (\n",
    "SELECT *\n",
    "FROM  arpu_table as l \n",
    "INNER JOIN arppu_table as r\n",
    "USING(test_grp)   ) as ArpuArppu \n",
    "INNER JOIN cr_purchase_table as cpt\n",
    "USING(test_grp)) as ArpuArppuCR\n",
    "INNER JOIN cr_purchase_active_table as cpat\n",
    "USING(test_grp)) as ArpuArppuCR_CR_active\n",
    "INNER JOIN cr_active_math as cam\n",
    "USING(test_grp)\n",
    "\"\"\"\n",
    "df_for_2_2 = ph.read_clickhouse(query_1, connection=connection)\n",
    "df_for_2_2"
   ]
  },
  {
   "cell_type": "markdown",
   "metadata": {},
   "source": [
    "# Задание 3\n",
    "### Реализуйте функцию, которая будет автоматически подгружать информацию из дополнительного файла groups_add.csv (заголовки могут отличаться) и на основании дополнительных параметров пересчитывать метрики.\n",
    "### Реализуйте функцию, которая будет строить графики по получаемым метрикам."
   ]
  },
  {
   "cell_type": "code",
   "execution_count": 73,
   "metadata": {},
   "outputs": [],
   "source": [
    "# Как я понял, нужно не рассчитывать стат.знасимо ли различие в метриках а просто посчитать метрики\n",
    "# По логике, метрики считаем с разбивками на группы\n",
    "\n",
    "def metrics_all_groups(path_add): # Создаем функцию. path_add - путь ко второй группе наблюдаемых\n",
    "    groups = pd.read_csv('groups.csv', sep=';')\n",
    "    active_studs = pd.read_csv('active_studs.csv', sep=';')\n",
    "    checks = pd.read_csv('checks.csv', sep=';')\n",
    "    groups_add = pd.read_csv(path_add, sep=',') # записали переменные. В данном случае путь будет вписываться при использовании\n",
    "                                            # функции\n",
    "    union_groups = pd.concat([groups, groups_add]) # соединяем две таблицы с группами\n",
    "    checks = checks.rename(columns = {'student_id': 'id'})  # для дальнейшего удобства переименуем колонку\n",
    "    \n",
    "    # Для дальнейшей работы создадим таблицу, как в первом задании.\n",
    "    for_metrics = active_studs.rename(columns = {'student_id': 'id'}) \\\n",
    "                              .merge(union_groups, on = 'id') \\\n",
    "                              .merge(checks, how = 'left', on = 'id') \\\n",
    "                              .fillna(0)\n",
    "    # посчитаем ARPPU\n",
    "    arppu       = for_metrics.query('rev > 0') \\\n",
    "                             .groupby('grp', as_index = False) \\\n",
    "                             .agg(arppu = ('rev', 'mean'))\n",
    "    \n",
    "    arpu        = for_metrics.groupby('grp', as_index = False) \\\n",
    "                             .agg(arpu = ('rev', 'mean')) \n",
    "    \n",
    "    # создадим переменную для дальнейшего вывода cr\n",
    "    for_cr      = {'grp': ['A', 'B'], 'cr': [len(for_metrics.query('grp == \"A\" and rev != 0.0')) \\\n",
    "                                             / len(for_metrics.query('grp == \"A\"')) \\\n",
    "                                             , len(for_metrics.query('grp == \"B\" and rev != 0.0')) \\\n",
    "                                             / len(for_metrics.query('grp == \"B\"'))]}\n",
    "    cr          = pd.DataFrame(data = for_cr) # выводим cr\n",
    "    \n",
    "    df = arppu.merge(arpu, on = 'grp').merge(cr, on = 'grp') # джоиним получившиеся таблицы\n",
    "    return df\n"
   ]
  },
  {
   "cell_type": "code",
   "execution_count": 74,
   "metadata": {},
   "outputs": [
    {
     "data": {
      "text/html": [
       "<div>\n",
       "<style scoped>\n",
       "    .dataframe tbody tr th:only-of-type {\n",
       "        vertical-align: middle;\n",
       "    }\n",
       "\n",
       "    .dataframe tbody tr th {\n",
       "        vertical-align: top;\n",
       "    }\n",
       "\n",
       "    .dataframe thead th {\n",
       "        text-align: right;\n",
       "    }\n",
       "</style>\n",
       "<table border=\"1\" class=\"dataframe\">\n",
       "  <thead>\n",
       "    <tr style=\"text-align: right;\">\n",
       "      <th></th>\n",
       "      <th>grp</th>\n",
       "      <th>arppu</th>\n",
       "      <th>arpu</th>\n",
       "      <th>cr</th>\n",
       "    </tr>\n",
       "  </thead>\n",
       "  <tbody>\n",
       "    <tr>\n",
       "      <th>0</th>\n",
       "      <td>A</td>\n",
       "      <td>933.589744</td>\n",
       "      <td>47.347204</td>\n",
       "      <td>0.050715</td>\n",
       "    </tr>\n",
       "    <tr>\n",
       "      <th>1</th>\n",
       "      <td>B</td>\n",
       "      <td>1257.878992</td>\n",
       "      <td>58.058798</td>\n",
       "      <td>0.046156</td>\n",
       "    </tr>\n",
       "  </tbody>\n",
       "</table>\n",
       "</div>"
      ],
      "text/plain": [
       "  grp        arppu       arpu        cr\n",
       "0   A   933.589744  47.347204  0.050715\n",
       "1   B  1257.878992  58.058798  0.046156"
      ]
     },
     "execution_count": 74,
     "metadata": {},
     "output_type": "execute_result"
    }
   ],
   "source": [
    "metrics = metrics_all_groups('group_add.csv')\n",
    "metrics    # получилось. "
   ]
  },
  {
   "cell_type": "code",
   "execution_count": null,
   "metadata": {},
   "outputs": [],
   "source": []
  },
  {
   "cell_type": "code",
   "execution_count": 75,
   "metadata": {},
   "outputs": [],
   "source": [
    "# Теперь напишем функцию, которая будет строить графики. Думаю, самым наглядным графиком будет barplot\n",
    "def metrics_chart(df):\n",
    "    plt.figure(figsize=(25, 13))\n",
    "    plt.subplot(1, 3, 1)\n",
    "    sns.barplot(x=\"grp\", y=\"arppu\", palette=\"Set2\", data=metrics)\n",
    "    plt.xlabel('GROUP')\n",
    "    plt.ylabel('ARPPU')\n",
    "    plt.title(\"ARPPU_CHART\")\n",
    "    \n",
    "    plt.subplot(1, 3, 2)\n",
    "    sns.barplot(x=\"grp\", y=\"arpu\", palette=\"Set2\", data=metrics)\n",
    "    plt.xlabel('GROUP')\n",
    "    plt.ylabel('ARPU')\n",
    "    plt.title(\"ARPU_CHART\")\n",
    "    \n",
    "    plt.subplot(1, 3, 3)\n",
    "    sns.barplot(x=\"grp\", y=\"cr\", palette=\"Set2\", data=metrics)\n",
    "    plt.xlabel('GROUP')\n",
    "    plt.ylabel('CR')\n",
    "    plt.title(\"CR_CHART\")"
   ]
  },
  {
   "cell_type": "code",
   "execution_count": 76,
   "metadata": {},
   "outputs": [
    {
     "data": {
      "image/png": "[encoded data removed]",
      "text/plain": [
       "<Figure size 1800x936 with 3 Axes>"
      ]
     },
     "metadata": {},
     "output_type": "display_data"
    }
   ],
   "source": [
    "metrics_chart(metrics)"
   ]
  },
  {
   "cell_type": "code",
   "execution_count": null,
   "metadata": {},
   "outputs": [],
   "source": []
  }
 ],
 "metadata": {
  "kernelspec": {
   "display_name": "Python 3",
   "language": "python",
   "name": "python3"
  },
  "language_info": {
   "codemirror_mode": {
    "name": "ipython",
    "version": 3
   },
   "file_extension": ".py",
   "mimetype": "text/x-python",
   "name": "python",
   "nbconvert_exporter": "python",
   "pygments_lexer": "ipython3",
   "version": "3.7.3"
  }
 },
 "nbformat": 4,
 "nbformat_minor": 4
}
